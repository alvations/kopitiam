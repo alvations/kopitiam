{
 "cells": [
  {
   "cell_type": "markdown",
   "id": "6166a45f",
   "metadata": {},
   "source": [
    "### Environmental Setup"
   ]
  },
  {
   "cell_type": "code",
   "execution_count": 239,
   "id": "82c3b601",
   "metadata": {},
   "outputs": [
    {
     "data": {
      "text/plain": [
       "'/Library/Developer/CommandLineTools/usr/bin/python3'"
      ]
     },
     "execution_count": 239,
     "metadata": {},
     "output_type": "execute_result"
    }
   ],
   "source": [
    "import sys\n",
    "python = sys.executable\n",
    "python"
   ]
  },
  {
   "cell_type": "code",
   "execution_count": 241,
   "id": "08707f9c",
   "metadata": {},
   "outputs": [],
   "source": [
    "%%capture\n",
    "! {python} -m pip install -U fsspec tqdm transformers accelerate datasets sacrebleu evaluate sentencepiece sacremoses "
   ]
  },
  {
   "cell_type": "code",
   "execution_count": 242,
   "id": "f334421f",
   "metadata": {},
   "outputs": [
    {
     "name": "stdout",
     "output_type": "stream",
     "text": [
      "accelerate==0.21.0\r\n",
      "datasets==2.14.1\r\n",
      "evaluate==0.4.0\r\n",
      "sacrebleu==2.3.1\r\n",
      "sacremoses==0.0.53\r\n",
      "sentence-transformers==2.2.2\r\n",
      "sentencepiece==0.1.99\r\n",
      "transformers==4.31.0\r\n"
     ]
    }
   ],
   "source": [
    "! {python} -m pip freeze | grep -E \"transformers|accelerate|datasets|sacrebleu|evaluate|sentencepiece|sacremoses\""
   ]
  },
  {
   "cell_type": "markdown",
   "id": "514f6222",
   "metadata": {},
   "source": [
    "# The Model: Lets pick a multilingual model"
   ]
  },
  {
   "cell_type": "code",
   "execution_count": 36,
   "id": "b398a7d1",
   "metadata": {},
   "outputs": [],
   "source": [
    "import csv\n",
    "\n",
    "import evaluate\n",
    "from datasets import load_dataset\n",
    "\n",
    "from transformers import MarianConfig, MarianMTModel, AutoTokenizer, Seq2SeqTrainingArguments, Seq2SeqTrainer"
   ]
  },
  {
   "cell_type": "code",
   "execution_count": 38,
   "id": "0d179b8a",
   "metadata": {},
   "outputs": [],
   "source": [
    "tokenizer = AutoTokenizer.from_pretrained(\"Helsinki-NLP/opus-mt-en-de\")\n",
    "model = MarianMTModel.from_pretrained(\"Helsinki-NLP/opus-mt-en-de\")\n",
    "\n",
    "# set special tokens, not sure if it's needed but adding them for sanity...\n",
    "model.config.eos_token_id = tokenizer.eos_token_id\n",
    "model.config.pad_token_id = tokenizer.pad_token_id"
   ]
  },
  {
   "attachments": {},
   "cell_type": "markdown",
   "id": "5656a8b5",
   "metadata": {},
   "source": [
    "# The Data: Lets get some \"translation\" data\n",
    "\n",
    "From https://github.com/alvations/kopitiam, we have some data that translates from Singlish coffee names to their standard English counterparts.\n",
    "<img src=\"https://blog.seedly.sg/_next/image/?url=https%3A%2F%2Fcdn-blog.seedly.sg%2Fwp-content%2Fuploads%2F2022%2F04%2F13174522%2F141222-How-to-Order-Coffee-Kopi-in-Singapore-Like-Locals-Differences-in-Prices.png&w=3840&q=75\" width=\"700\" align=\"left\"/>\n"
   ]
  },
  {
   "cell_type": "markdown",
   "id": "79106358",
   "metadata": {},
   "source": [
    "Image Source: https://blog.seedly.sg/singapore-coffee-kopi-tea-teh-guide-difference-in-price-how-to-order/"
   ]
  },
  {
   "cell_type": "code",
   "execution_count": 9,
   "id": "25cb722a",
   "metadata": {},
   "outputs": [
    {
     "name": "stdout",
     "output_type": "stream",
     "text": [
      "--2023-07-28 04:24:28--  https://raw.githubusercontent.com/alvations/kopitiam/master/kopitiam.tsv\n",
      "Resolving raw.githubusercontent.com (raw.githubusercontent.com)... 2606:50c0:8001::154, 2606:50c0:8000::154, 2606:50c0:8002::154, ...\n",
      "Connecting to raw.githubusercontent.com (raw.githubusercontent.com)|2606:50c0:8001::154|:443... connected.\n",
      "HTTP request sent, awaiting response... 200 OK\n",
      "Length: 20427 (20K) [text/plain]\n",
      "Saving to: ‘kopitiam.tsv’\n",
      "\n",
      "kopitiam.tsv        100%[===================>]  19.95K  --.-KB/s    in 0.003s  \n",
      "\n",
      "2023-07-28 04:24:28 (7.41 MB/s) - ‘kopitiam.tsv’ saved [20427/20427]\n",
      "\n"
     ]
    }
   ],
   "source": [
    "! wget -O kopitiam.tsv https://raw.githubusercontent.com/alvations/kopitiam/master/kopitiam.tsv"
   ]
  },
  {
   "cell_type": "code",
   "execution_count": 10,
   "id": "424ee633",
   "metadata": {},
   "outputs": [
    {
     "name": "stdout",
     "output_type": "stream",
     "text": [
      "Local Terms\tMeaning\r\n",
      "Kopi O\tBlack Coffee with Sugar\r\n",
      "Kopi\tBlack Coffee with Condensed Milk\r\n",
      "Kopi C\tBlack Coffee with Evaporated Milk\r\n",
      "Kopi Kosong\tBlack Coffee without sugar or milk\r\n",
      "Kopi Gah Dai\tBlack Coffee with extra condensed milk\r\n",
      "Kopi Siew Dai\tCoffee with Condensed Milk but less sugar\r\n",
      "Kopi O Siew Dai\tBlack Coffee with less sugar\r\n",
      "Kopi Po\tCoffee with Condensed Milk but weaker (they add more water)\r\n",
      "Kopi O Po\tBlack Coffee with Sugar but weaker (they add more water)\r\n"
     ]
    }
   ],
   "source": [
    "! cut -f1,2 kopitiam.tsv | head -n10"
   ]
  },
  {
   "cell_type": "code",
   "execution_count": null,
   "id": "798c1ff8",
   "metadata": {},
   "outputs": [],
   "source": [
    "from datasets import load_dataset\n",
    "\n",
    "kopi_dataset = load_dataset(\n",
    "    \"csv\", \n",
    "    data_files=\"./kopitiam.tsv\", \n",
    "    delimiter=\"\\t\", encoding=\"utf8\", \n",
    "    header=None, names=['SRC', 'TRG'], skiprows=1, index_col=False,\n",
    "    quoting=csv.QUOTE_NONE, quotechar=\"\",  escapechar=\"\\0\",\n",
    "    split=\"train\"\n",
    ")"
   ]
  },
  {
   "cell_type": "code",
   "execution_count": 30,
   "id": "740d9bdf",
   "metadata": {},
   "outputs": [
    {
     "data": {
      "text/plain": [
       "Dataset({\n",
       "    features: ['SRC', 'TRG'],\n",
       "    num_rows: 168\n",
       "})"
      ]
     },
     "execution_count": 30,
     "metadata": {},
     "output_type": "execute_result"
    }
   ],
   "source": [
    "kopi_dataset"
   ]
  },
  {
   "cell_type": "code",
   "execution_count": 32,
   "id": "4a282e88",
   "metadata": {},
   "outputs": [
    {
     "data": {
      "text/plain": [
       "(['Kopi O',\n",
       "  'Kopi',\n",
       "  'Kopi C',\n",
       "  'Kopi Kosong',\n",
       "  'Kopi Gah Dai',\n",
       "  'Kopi Siew Dai',\n",
       "  'Kopi O Siew Dai',\n",
       "  'Kopi Po',\n",
       "  'Kopi O Po',\n",
       "  'Kopi Gau'],\n",
       " ['Black Coffee with Sugar',\n",
       "  'Black Coffee with Condensed Milk',\n",
       "  'Black Coffee with Evaporated Milk',\n",
       "  'Black Coffee without sugar or milk',\n",
       "  'Black Coffee with extra condensed milk',\n",
       "  'Coffee with Condensed Milk but less sugar',\n",
       "  'Black Coffee with less sugar',\n",
       "  'Coffee with Condensed Milk but weaker (they add more water)',\n",
       "  'Black Coffee with Sugar but weaker (they add more water)',\n",
       "  'Strong Coffee with Condensed Milk'])"
      ]
     },
     "execution_count": 32,
     "metadata": {},
     "output_type": "execute_result"
    }
   ],
   "source": [
    "kopi_dataset['SRC'][:10], kopi_dataset['TRG'][:10], "
   ]
  },
  {
   "cell_type": "markdown",
   "id": "b4615c6c",
   "metadata": {},
   "source": [
    "## What is all these weird arguments in `load_dataset`? \n",
    "\n",
    "They are actually the `csv` parsing arguments. They follow closely to the options available from the `pandas` library https://pandas.pydata.org/docs/reference/api/pandas.read_csv.html \n",
    "\n",
    "> **pandas.read_csv**(filepath_or_buffer, *, sep=_NoDefault.no_default, delimiter=None, header='infer', names=_NoDefault.no_default, index_col=None, usecols=None, dtype=None, engine=None, converters=None, true_values=None, false_values=None, skipinitialspace=False, skiprows=None, skipfooter=0, nrows=None, na_values=None, keep_default_na=True, na_filter=True, verbose=False, skip_blank_lines=True, parse_dates=None, infer_datetime_format=_NoDefault.no_default, keep_date_col=False, date_parser=_NoDefault.no_default, date_format=None, dayfirst=False, cache_dates=True, iterator=False, chunksize=None, compression='infer', thousands=None, decimal='.', lineterminator=None, quotechar='\"', quoting=0, doublequote=True, escapechar=None, comment=None, encoding=None, encoding_errors='strict', dialect=None, on_bad_lines='error', delim_whitespace=False, low_memory=True, memory_map=False, float_precision=None, storage_options=None, dtype_backend=_NoDefault.no_default)\n",
    "\n",
    "\n",
    "Lets go through some of it:\n",
    "\n",
    " - `delimiter=\"\\t\"`: We are reading a tab-separated file, so we set the delimiter as tab `\\t`\n",
    " - `encodeing=\"utf8\"`: It's a unicode file, so we specify it as `utf8`\n",
    " - `header=None, names=['SRC', 'TRG'], skiprows=1, index_col=False`\n",
    "     - When we specify `header=None, skiprows=1`, it's not that the file doesn't contain a header row, but what we're doing is to ignore the headerline, \n",
    "     - then we set the name column names to 'SRC' and 'TRG with `names=['SRC', 'TRG']`, implicitly throwing away any columns after the 2nd.\n",
    "     - `index_col=False` is used because by default, it'll assume the first column as the index column of the csv file, and in this case, it isn't so we disable it.\n",
    " - `quoting=csv.QUOTE_NONE, quotechar=\"\",  escapechar=\"\\0\"`, this is an idiom to read tab separated file without trying to escape the quotes, see https://stackoverflow.com/a/51941891/610569 "
   ]
  },
  {
   "cell_type": "markdown",
   "id": "5e4e8269",
   "metadata": {},
   "source": [
    "# Then, we convert the string inputs to vocabulary IDs"
   ]
  },
  {
   "cell_type": "code",
   "execution_count": 39,
   "id": "428d3d72",
   "metadata": {},
   "outputs": [
    {
     "data": {
      "text/plain": [
       "MarianTokenizer(name_or_path='Helsinki-NLP/opus-mt-en-de', vocab_size=58101, model_max_length=512, is_fast=False, padding_side='right', truncation_side='right', special_tokens={'eos_token': '</s>', 'unk_token': '<unk>', 'pad_token': '<pad>'}, clean_up_tokenization_spaces=True)"
      ]
     },
     "execution_count": 39,
     "metadata": {},
     "output_type": "execute_result"
    }
   ],
   "source": [
    "tokenizer # We initialized this when we pick our model."
   ]
  },
  {
   "cell_type": "code",
   "execution_count": 44,
   "id": "aa834d4d",
   "metadata": {},
   "outputs": [
    {
     "data": {
      "application/vnd.jupyter.widget-view+json": {
       "model_id": "2333bea1a04946e1a2e9eb295d40eade",
       "version_major": 2,
       "version_minor": 0
      },
      "text/plain": [
       "Map:   0%|          | 0/168 [00:00<?, ? examples/s]"
      ]
     },
     "metadata": {},
     "output_type": "display_data"
    }
   ],
   "source": [
    "def preprocess_function(batch):\n",
    "    inputs = tokenizer(batch['SRC'], max_length=10, truncation=True, padding=\"max_length\")\n",
    "    outputs = tokenizer(batch['TRG'], max_length=10, truncation=True, padding=\"max_length\")\n",
    "\n",
    "    return {\"input_ids\": inputs[\"input_ids\"], \n",
    "            \"labels\": outputs.input_ids.copy()}\n",
    "\n",
    "kopi_dataset = kopi_dataset.map(preprocess_function, batched=True)"
   ]
  },
  {
   "cell_type": "code",
   "execution_count": 45,
   "id": "2c2d043f",
   "metadata": {},
   "outputs": [
    {
     "data": {
      "text/plain": [
       "Dataset({\n",
       "    features: ['SRC', 'TRG', 'input_ids', 'labels'],\n",
       "    num_rows: 168\n",
       "})"
      ]
     },
     "execution_count": 45,
     "metadata": {},
     "output_type": "execute_result"
    }
   ],
   "source": [
    "kopi_dataset"
   ]
  },
  {
   "cell_type": "code",
   "execution_count": 46,
   "id": "38379c81",
   "metadata": {},
   "outputs": [
    {
     "name": "stdout",
     "output_type": "stream",
     "text": [
      "{'SRC': 'Kopi O', 'TRG': 'Black Coffee with Sugar', 'input_ids': [1739, 3175, 470, 0, 58100, 58100, 58100, 58100, 58100, 58100], 'labels': [2410, 16222, 33, 33502, 0, 58100, 58100, 58100, 58100, 58100]}\n"
     ]
    }
   ],
   "source": [
    "print(kopi_dataset[0])"
   ]
  },
  {
   "cell_type": "markdown",
   "id": "6740c011",
   "metadata": {},
   "source": [
    "## What are all these 58100?\n",
    "\n",
    "They are the pad tokens. And the `0` is the end of sentence (EOS) token. \n",
    "\n",
    "In newer model these days, sometimes they'll use the EOS token as the pad, see https://stackoverflow.com/a/76453052/610569 "
   ]
  },
  {
   "cell_type": "code",
   "execution_count": 49,
   "id": "ded1ef72",
   "metadata": {},
   "outputs": [
    {
     "data": {
      "text/plain": [
       "'<pad>'"
      ]
     },
     "execution_count": 49,
     "metadata": {},
     "output_type": "execute_result"
    }
   ],
   "source": [
    "tokenizer.convert_ids_to_tokens(58100)"
   ]
  },
  {
   "cell_type": "markdown",
   "id": "a40239fc",
   "metadata": {},
   "source": [
    "## What if my dataset is really huge and I don't want to pre-tokenize the dataset?\n",
    "\n",
    "Then you can use the `streaming=True` option, see https://huggingface.co/docs/datasets/stream\n",
    "\n",
    "If you set `streaming=True`, the Huggingface `Trainer` object that will eventually read in the dataset will function the same way as not using streaming **but you can't easily inspect the data `load_dataset` nor can you check the vocab IDs after doing the map functions.**\n"
   ]
  },
  {
   "cell_type": "code",
   "execution_count": 159,
   "id": "85dc74b1",
   "metadata": {},
   "outputs": [],
   "source": [
    "from datasets import load_dataset\n",
    "\n",
    "kopi_dataset = load_dataset(\n",
    "    \"csv\", \n",
    "    data_files=\"./kopitiam.tsv\", \n",
    "    delimiter=\"\\t\", encoding=\"utf8\", \n",
    "    header=None, names=['SRC', 'TRG'], skiprows=1, index_col=False,\n",
    "    quoting=csv.QUOTE_NONE, quotechar=\"\",  escapechar=\"\\0\",\n",
    "    streaming=True,\n",
    "    split=\"train\"\n",
    ")\n",
    "\n",
    "kopi_dataset = kopi_dataset.map(preprocess_function, batched=True)"
   ]
  },
  {
   "cell_type": "code",
   "execution_count": 160,
   "id": "948d9b05",
   "metadata": {},
   "outputs": [
    {
     "data": {
      "text/plain": [
       "<datasets.iterable_dataset.IterableDataset at 0x13741d820>"
      ]
     },
     "execution_count": 160,
     "metadata": {},
     "output_type": "execute_result"
    }
   ],
   "source": [
    "kopi_dataset"
   ]
  },
  {
   "cell_type": "code",
   "execution_count": 161,
   "id": "88a5c60e",
   "metadata": {},
   "outputs": [
    {
     "ename": "NotImplementedError",
     "evalue": "",
     "output_type": "error",
     "traceback": [
      "\u001b[0;31m---------------------------------------------------------------------------\u001b[0m",
      "\u001b[0;31mNotImplementedError\u001b[0m                       Traceback (most recent call last)",
      "\u001b[0;32m<ipython-input-161-b5776599b572>\u001b[0m in \u001b[0;36m<module>\u001b[0;34m\u001b[0m\n\u001b[0;32m----> 1\u001b[0;31m \u001b[0mkopi_dataset\u001b[0m\u001b[0;34m[\u001b[0m\u001b[0;36m0\u001b[0m\u001b[0;34m]\u001b[0m  \u001b[0;31m# This will throw an error.\u001b[0m\u001b[0;34m\u001b[0m\u001b[0;34m\u001b[0m\u001b[0m\n\u001b[0m",
      "\u001b[0;32m~/Library/Python/3.8/lib/python/site-packages/torch/utils/data/dataset.py\u001b[0m in \u001b[0;36m__getitem__\u001b[0;34m(self, index)\u001b[0m\n\u001b[1;32m     51\u001b[0m \u001b[0;34m\u001b[0m\u001b[0m\n\u001b[1;32m     52\u001b[0m     \u001b[0;32mdef\u001b[0m \u001b[0m__getitem__\u001b[0m\u001b[0;34m(\u001b[0m\u001b[0mself\u001b[0m\u001b[0;34m,\u001b[0m \u001b[0mindex\u001b[0m\u001b[0;34m)\u001b[0m \u001b[0;34m->\u001b[0m \u001b[0mT_co\u001b[0m\u001b[0;34m:\u001b[0m\u001b[0;34m\u001b[0m\u001b[0;34m\u001b[0m\u001b[0m\n\u001b[0;32m---> 53\u001b[0;31m         \u001b[0;32mraise\u001b[0m \u001b[0mNotImplementedError\u001b[0m\u001b[0;34m\u001b[0m\u001b[0;34m\u001b[0m\u001b[0m\n\u001b[0m\u001b[1;32m     54\u001b[0m \u001b[0;34m\u001b[0m\u001b[0m\n\u001b[1;32m     55\u001b[0m     \u001b[0;32mdef\u001b[0m \u001b[0m__add__\u001b[0m\u001b[0;34m(\u001b[0m\u001b[0mself\u001b[0m\u001b[0;34m,\u001b[0m \u001b[0mother\u001b[0m\u001b[0;34m:\u001b[0m \u001b[0;34m'Dataset[T_co]'\u001b[0m\u001b[0;34m)\u001b[0m \u001b[0;34m->\u001b[0m \u001b[0;34m'ConcatDataset[T_co]'\u001b[0m\u001b[0;34m:\u001b[0m\u001b[0;34m\u001b[0m\u001b[0;34m\u001b[0m\u001b[0m\n",
      "\u001b[0;31mNotImplementedError\u001b[0m: "
     ]
    }
   ],
   "source": [
    "kopi_dataset[0]  # This will throw an error."
   ]
  },
  {
   "cell_type": "code",
   "execution_count": 163,
   "id": "21b205b0",
   "metadata": {},
   "outputs": [
    {
     "name": "stdout",
     "output_type": "stream",
     "text": [
      "{'SRC': 'Kopi O', 'TRG': 'Black Coffee with Sugar', 'input_ids': [1739, 3175, 470, 0, 58100, 58100, 58100, 58100, 58100, 58100], 'labels': [2410, 16222, 33, 33502, 0, 58100, 58100, 58100, 58100, 58100]}\n"
     ]
    },
    {
     "name": "stderr",
     "output_type": "stream",
     "text": [
      "/Users/alvas/Library/Python/3.8/lib/python/site-packages/datasets/packaged_modules/csv/csv.py:187: ParserWarning: Length of header or names does not match length of data. This leads to a loss of data with index_col=False.\n",
      "  for batch_idx, df in enumerate(csv_file_reader):\n"
     ]
    }
   ],
   "source": [
    "# This is one way you can inspect the dataset.\n",
    "for row in kopi_dataset:\n",
    "    print(row)\n",
    "    break"
   ]
  },
  {
   "cell_type": "markdown",
   "id": "f4525ce5",
   "metadata": {},
   "source": [
    "### What is this `ParserWarning`?\n",
    "\n",
    "This is because we dropped out the last column in the original `.tsv` file, you can do the following if you want to avoid the error, you can make sure the no. of names you passed into the csv parsing module matches the data, ` names=['SRC', 'TRG', 'URL']`, e.g.\n",
    "\n",
    "```python\n",
    "from datasets import load_dataset\n",
    "\n",
    "kopi_dataset = load_dataset(\n",
    "    \"csv\", \n",
    "    data_files=\"./kopitiam.tsv\", \n",
    "    delimiter=\"\\t\", encoding=\"utf8\", \n",
    "    header=None, names=['SRC', 'TRG', 'provenance (datas )'], skiprows=1, index_col=False,\n",
    "    quoting=csv.QUOTE_NONE, quotechar=\"\",  escapechar=\"\\0\",\n",
    "    streaming=True,\n",
    "    split=\"train\"\n",
    ")\n",
    "\n",
    "kopi_dataset = kopi_dataset.map(preprocess_function, batched=True)\n",
    "```\n",
    "    \n",
    "    "
   ]
  },
  {
   "cell_type": "markdown",
   "id": "84202e9a",
   "metadata": {},
   "source": [
    "### Lets section out some data as validation set?"
   ]
  },
  {
   "cell_type": "code",
   "execution_count": 190,
   "id": "01d62a3e",
   "metadata": {},
   "outputs": [
    {
     "data": {
      "application/vnd.jupyter.widget-view+json": {
       "model_id": "682d07a3ccb149b2a1cdc4733e873fe1",
       "version_major": 2,
       "version_minor": 0
      },
      "text/plain": [
       "Map:   0%|          | 0/168 [00:00<?, ? examples/s]"
      ]
     },
     "metadata": {},
     "output_type": "display_data"
    }
   ],
   "source": [
    "from datasets import load_dataset\n",
    "\n",
    "kopi_dataset = load_dataset(\n",
    "    \"csv\", \n",
    "    data_files=\"./kopitiam.tsv\", \n",
    "    delimiter=\"\\t\", encoding=\"utf8\", \n",
    "    header=None, names=['SRC', 'TRG'], skiprows=1, index_col=False,\n",
    "    quoting=csv.QUOTE_NONE, quotechar=\"\",  escapechar=\"\\0\",\n",
    "    split=\"train\"\n",
    ")\n",
    "\n",
    "kopi_dataset = kopi_dataset.map(preprocess_function, batched=True)\n",
    "\n",
    "train_dataset = kopi_dataset.select(range(150))\n",
    "validation_dataset = kopi_dataset.select(range(150, len(kopi_dataset)))"
   ]
  },
  {
   "cell_type": "code",
   "execution_count": 191,
   "id": "5f3c3bbd",
   "metadata": {},
   "outputs": [
    {
     "data": {
      "text/plain": [
       "Dataset({\n",
       "    features: ['SRC', 'TRG', 'input_ids', 'labels'],\n",
       "    num_rows: 150\n",
       "})"
      ]
     },
     "execution_count": 191,
     "metadata": {},
     "output_type": "execute_result"
    }
   ],
   "source": [
    "train_dataset"
   ]
  },
  {
   "cell_type": "code",
   "execution_count": 192,
   "id": "7bfa9814",
   "metadata": {},
   "outputs": [
    {
     "data": {
      "text/plain": [
       "Dataset({\n",
       "    features: ['SRC', 'TRG', 'input_ids', 'labels'],\n",
       "    num_rows: 18\n",
       "})"
      ]
     },
     "execution_count": 192,
     "metadata": {},
     "output_type": "execute_result"
    }
   ],
   "source": [
    "validation_dataset"
   ]
  },
  {
   "cell_type": "markdown",
   "id": "21518208",
   "metadata": {},
   "source": [
    "### That's so \"un-scientific\", couldn't you do some shuffling before or something?\n",
    "\n",
    "Actually, there's a better way! Using https://discuss.huggingface.co/t/how-to-split-main-dataset-into-train-dev-test-as-datasetdict/1090?u=alvations"
   ]
  },
  {
   "cell_type": "code",
   "execution_count": 194,
   "id": "de061dde",
   "metadata": {},
   "outputs": [],
   "source": [
    "from datasets import load_dataset, DatasetDict\n",
    "\n",
    "kopi_dataset = load_dataset(\n",
    "    \"csv\", \n",
    "    data_files=\"./kopitiam.tsv\", \n",
    "    delimiter=\"\\t\", encoding=\"utf8\", \n",
    "    header=None, names=['SRC', 'TRG'], skiprows=1, index_col=False,\n",
    "    quoting=csv.QUOTE_NONE, quotechar=\"\",  escapechar=\"\\0\",\n",
    "    split=\"train\"\n",
    ")\n",
    "\n",
    "kopi_dataset = kopi_dataset.map(preprocess_function, batched=True)\n",
    "\n",
    "# Split 80-20\n",
    "train_devtest = kopi_dataset.train_test_split(shuffle=True, seed =42, test_size=0.2)\n",
    "\n",
    "# From the 20, split 50-50.\n",
    "dev_test = train_test['test'].train_test_split(shuffle=True, seed =42, test_size=0.5)\n",
    "\n",
    "kopi_dataset = DatasetDict({\n",
    "    'train': train_devtest['train'],\n",
    "    'dev': dev_test['train'],\n",
    "    'test': dev_test['test']\n",
    "})"
   ]
  },
  {
   "cell_type": "code",
   "execution_count": 195,
   "id": "de27d40b",
   "metadata": {},
   "outputs": [
    {
     "data": {
      "text/plain": [
       "Dataset({\n",
       "    features: ['SRC', 'TRG', 'input_ids', 'labels'],\n",
       "    num_rows: 134\n",
       "})"
      ]
     },
     "execution_count": 195,
     "metadata": {},
     "output_type": "execute_result"
    }
   ],
   "source": [
    "kopi_dataset['train']"
   ]
  },
  {
   "cell_type": "code",
   "execution_count": 196,
   "id": "c95e837a",
   "metadata": {},
   "outputs": [
    {
     "data": {
      "text/plain": [
       "Dataset({\n",
       "    features: ['SRC', 'TRG', 'input_ids', 'labels'],\n",
       "    num_rows: 17\n",
       "})"
      ]
     },
     "execution_count": 196,
     "metadata": {},
     "output_type": "execute_result"
    }
   ],
   "source": [
    "kopi_dataset['dev']"
   ]
  },
  {
   "cell_type": "markdown",
   "id": "0fbac369",
   "metadata": {},
   "source": [
    "# The Metric: Lets go with the classic BLEU and ChrF"
   ]
  },
  {
   "cell_type": "code",
   "execution_count": 50,
   "id": "23469f65",
   "metadata": {},
   "outputs": [
    {
     "data": {
      "application/vnd.jupyter.widget-view+json": {
       "model_id": "a85cc26808dc4745ad6c8778e076e831",
       "version_major": 2,
       "version_minor": 0
      },
      "text/plain": [
       "Downloading builder script:   0%|          | 0.00/5.94k [00:00<?, ?B/s]"
      ]
     },
     "metadata": {},
     "output_type": "display_data"
    },
    {
     "data": {
      "application/vnd.jupyter.widget-view+json": {
       "model_id": "f99a67bf8d2a45a9a3136e8ccc470ec1",
       "version_major": 2,
       "version_minor": 0
      },
      "text/plain": [
       "Downloading extra modules:   0%|          | 0.00/1.55k [00:00<?, ?B/s]"
      ]
     },
     "metadata": {},
     "output_type": "display_data"
    },
    {
     "data": {
      "application/vnd.jupyter.widget-view+json": {
       "model_id": "6b4dab4cc4fc4b2fafce6494e52fa5e0",
       "version_major": 2,
       "version_minor": 0
      },
      "text/plain": [
       "Downloading extra modules:   0%|          | 0.00/3.34k [00:00<?, ?B/s]"
      ]
     },
     "metadata": {},
     "output_type": "display_data"
    },
    {
     "data": {
      "application/vnd.jupyter.widget-view+json": {
       "model_id": "001523165e49487c84132013fd9ea505",
       "version_major": 2,
       "version_minor": 0
      },
      "text/plain": [
       "Downloading builder script:   0%|          | 0.00/9.01k [00:00<?, ?B/s]"
      ]
     },
     "metadata": {},
     "output_type": "display_data"
    }
   ],
   "source": [
    "mt_metrics = evaluate.combine(\n",
    "    [\"bleu\", \"chrf\"], force_prefix=True\n",
    ")\n",
    "\n",
    "def compute_metrics(pred):\n",
    "    labels_ids = pred.label_ids\n",
    "    pred_ids = pred.predictions\n",
    "    \n",
    "    predictions = tokenizer.batch_decode(pred_ids, skip_special_tokens=True)\n",
    "\n",
    "    labels_ids[labels_ids == -100] = tokenizer.pad_token_id\n",
    "    references = tokenizer.batch_decode(labels_ids, skip_special_tokens=True)\n",
    "\n",
    "    outputs = mt_metrics.compute(predictions=predictions,\n",
    "                             references=references)\n",
    "\n",
    "    return outputs"
   ]
  },
  {
   "cell_type": "markdown",
   "id": "78f65a3b",
   "metadata": {},
   "source": [
    "## ちょっと待って! (Wait a minute!) Why is the `evaluate.combine` downloading something?\n",
    "\n",
    "The `evaluate` package is a pretty neat package. \n",
    "\n",
    "The general idea is that the metric is\n",
    "\n",
    " - any self-contained python package created by metric author\n",
    " - the package follows the standardize API from [`evaluate.Metric` module](https://github.com/huggingface/evaluate/blob/main/src/evaluate/module.py) \n",
    " - users are abstracted away from the nitty-gritty of different metrics and have a user-friendly way to compute metric scores when using Huggingface's `transformers`\n",
    "\n",
    "More details on https://aclanthology.org/2022.emnlp-demos.13"
   ]
  },
  {
   "cell_type": "markdown",
   "id": "40d8c742",
   "metadata": {},
   "source": [
    "## Is there a way to just do not download the script and do the `evaluate.Metric` locally? \n",
    "\n",
    "Yes, you can and here's an example. We'll write a metric `.py` script that encapsulates whatever library we want to use to compute the score, and then load it with `evaluate.load` function. \n",
    "\n",
    "The `evaluate.load` function loads a single metric and the `evaluate.combine` function is just a quick way to load multiple metrics at the same time and it also helps to combine the dictionaries output that each metric produces into a single dictionary."
   ]
  },
  {
   "cell_type": "code",
   "execution_count": 111,
   "id": "e9c1fbae",
   "metadata": {},
   "outputs": [
    {
     "name": "stdout",
     "output_type": "stream",
     "text": [
      "Overwriting mybleu.py\n"
     ]
    }
   ],
   "source": [
    "%%writefile mybleu.py\n",
    "\n",
    "import datasets\n",
    "import evaluate\n",
    "\n",
    "from sacrebleu.metrics import BLEU\n",
    "\n",
    "class MyBleu(evaluate.Metric):\n",
    "    def _info(self):\n",
    "        \"\"\"This is required somehow, which is good, see https://aclanthology.org/2022.humeval-1.6/\"\"\"\n",
    "        return evaluate.MetricInfo(\n",
    "            description='my own bleu',\n",
    "            citation=\"heh, maybe https://aclanthology.org/W18-6319/\",\n",
    "            features=[\n",
    "                datasets.Features(\n",
    "                    {\n",
    "                        \"predictions\": datasets.Value(\"string\", id=\"sequence\"),\n",
    "                        \"references\":  datasets.Value(\"string\", id=\"sequence\")\n",
    "                    }\n",
    "                )\n",
    "            ],\n",
    "        )\n",
    "    \n",
    "    def _compute(self, predictions, references):\n",
    "        \"\"\"Wrap over the actual BLEU computation\"\"\"\n",
    "        oh_my_bleu = BLEU()\n",
    "        # Sacrebleu expects multiple references.\n",
    "        score = oh_my_bleu.corpus_score(predictions, [references])\n",
    "        return {\"bleu\": float(score.score), 'bleu_str': score}"
   ]
  },
  {
   "cell_type": "code",
   "execution_count": 113,
   "id": "46acf0c4",
   "metadata": {},
   "outputs": [
    {
     "data": {
      "text/plain": [
       "{'bleu': 45.06750632106114,\n",
       " 'bleu_str': BLEU = 45.07 70.6/42.9/36.4/37.5 (BP = 1.000 ratio = 1.000 hyp_len = 17 ref_len = 17)}"
      ]
     },
     "execution_count": 113,
     "metadata": {},
     "output_type": "execute_result"
    }
   ],
   "source": [
    "hyp = ['The dog bit the man.', \"It wasn't surprising.\", 'The man had just bitten him.']\n",
    "ref = ['The dog bit the man.', 'It was not unexpected.', 'The man bit him first.']\n",
    "\n",
    "mybleu = evaluate.combine([f'./mybleu.py'])\n",
    "mybleu.compute(predictions=hyp, references=ref)"
   ]
  },
  {
   "cell_type": "markdown",
   "id": "fa689238",
   "metadata": {},
   "source": [
    "### Going back to the metrics we want to use\n",
    "\n",
    "You'll notice that there's a `force_prefix=True` argument. That is to avoid any confusion when the different metrics in report the scores with the same name in the key of the dictionary. The key in the dictionary is important since this is what you'll tell the `Trainer` object to track when evaluating the model."
   ]
  },
  {
   "cell_type": "code",
   "execution_count": 145,
   "id": "f47bae07",
   "metadata": {},
   "outputs": [
    {
     "data": {
      "text/plain": [
       "{'score': 50.043063606582294, 'char_order': 6, 'word_order': 0, 'beta': 2}"
      ]
     },
     "execution_count": 145,
     "metadata": {},
     "output_type": "execute_result"
    }
   ],
   "source": [
    "chrf = evaluate.load('chrf')\n",
    "\n",
    "chrf.compute(predictions=hyp, references=ref)"
   ]
  },
  {
   "cell_type": "code",
   "execution_count": 146,
   "id": "7a642e6a",
   "metadata": {},
   "outputs": [
    {
     "data": {
      "text/plain": [
       "{'score': 50.043063606582294, 'char_order': 6, 'word_order': 0, 'beta': 2}"
      ]
     },
     "execution_count": 146,
     "metadata": {},
     "output_type": "execute_result"
    }
   ],
   "source": [
    "chrf = evaluate.load('chrf', force_prefix=True)\n",
    "\n",
    "chrf.compute(predictions=hyp, references=ref)"
   ]
  },
  {
   "cell_type": "code",
   "execution_count": 147,
   "id": "69f79c3e",
   "metadata": {},
   "outputs": [
    {
     "data": {
      "text/plain": [
       "{'bleu_bleu': 0.45067506321061157,\n",
       " 'bleu_precisions': [0.7058823529411765,\n",
       "  0.42857142857142855,\n",
       "  0.36363636363636365,\n",
       "  0.375],\n",
       " 'bleu_brevity_penalty': 1.0,\n",
       " 'bleu_length_ratio': 1.0,\n",
       " 'bleu_translation_length': 17,\n",
       " 'bleu_reference_length': 17,\n",
       " 'chr_f_score': 50.043063606582294,\n",
       " 'chr_f_char_order': 6,\n",
       " 'chr_f_word_order': 0,\n",
       " 'chr_f_beta': 2}"
      ]
     },
     "execution_count": 147,
     "metadata": {},
     "output_type": "execute_result"
    }
   ],
   "source": [
    "mt_metrics = evaluate.combine(\n",
    "    [\"bleu\", \"chrf\"], force_prefix=True\n",
    ")\n",
    "\n",
    "mt_metrics.compute(predictions=hyp, references=ref)"
   ]
  },
  {
   "cell_type": "markdown",
   "id": "77b52876",
   "metadata": {},
   "source": [
    "# Lets go back to training an MT model!\n",
    "\n",
    "We'll need to set some hyperparameters first."
   ]
  },
  {
   "cell_type": "code",
   "execution_count": 149,
   "id": "74f83d1b",
   "metadata": {
    "scrolled": true
   },
   "outputs": [],
   "source": [
    "training_args = Seq2SeqTrainingArguments(\n",
    "    output_dir='./',\n",
    "    per_device_train_batch_size=4,\n",
    "    per_device_eval_batch_size=4,\n",
    "    logging_steps=1,\n",
    "    save_steps=5,\n",
    "    eval_steps=5,\n",
    "    max_steps=10,\n",
    "    evaluation_strategy=\"steps\",\n",
    "    predict_with_generate=True,\n",
    "    report_to=None,\n",
    "    metric_for_best_model=\"chr_f_score\",\n",
    "    load_best_model_at_end=True,\n",
    "    save_total_limit=5\n",
    ")\n"
   ]
  },
  {
   "cell_type": "markdown",
   "id": "1c547313",
   "metadata": {},
   "source": [
    "## What are all these arguments? \n",
    "\n",
    "They are the training arguments that's used to configure the training routine. The only compulsory argument is `output_dir`.\n",
    "\n",
    "There aparently a whole lot of \"knobs\" to turn; remember the English copy of Marian's Bomba https://www.computerhistory.org/timeline/1941/#169ebbe2ad45559efbc6eb357207bb27 =)\n",
    "\n",
    "Alternatively, you can avoid these defaults and roll out your own training routine, for reference, see https://github.com/huggingface/transformers/blob/main/examples/pytorch/translation/run_translation_no_trainer.py\n",
    "\n",
    "\n",
    "Meanwhile, here's how you can view the no. of possible `TrainingArguments`:"
   ]
  },
  {
   "cell_type": "code",
   "execution_count": 150,
   "id": "47a62f06",
   "metadata": {},
   "outputs": [
    {
     "name": "stdout",
     "output_type": "stream",
     "text": [
      "\n",
      "    TrainingArguments is the subset of the arguments we use in our example scripts **which relate to the training loop\n",
      "    itself**.\n",
      "\n",
      "    Using [`HfArgumentParser`] we can turn this class into\n",
      "    [argparse](https://docs.python.org/3/library/argparse#module-argparse) arguments that can be specified on the\n",
      "    command line.\n",
      "\n",
      "    Parameters:\n",
      "        output_dir (`str`):\n",
      "            The output directory where the model predictions and checkpoints will be written.\n",
      "        overwrite_output_dir (`bool`, *optional*, defaults to `False`):\n",
      "            If `True`, overwrite the content of the output directory. Use this to continue training if `output_dir`\n",
      "            points to a checkpoint directory.\n",
      "        do_train (`bool`, *optional*, defaults to `False`):\n",
      "            Whether to run training or not. This argument is not directly used by [`Trainer`], it's intended to be used\n",
      "            by your training/evaluation scripts instead. See the [example\n",
      "            scripts](https://github.com/huggingface/transformers/tree/main/examples) for more details.\n",
      "        do_eval (`bool`, *optional*):\n",
      "            Whether to run evaluation on the validation set or not. Will be set to `True` if `evaluation_strategy` is\n",
      "            different from `\"no\"`. This argument is not directly used by [`Trainer`], it's intended to be used by your\n",
      "            training/evaluation scripts instead. See the [example\n",
      "            scripts](https://github.com/huggingface/transformers/tree/main/examples) for more details.\n",
      "        do_predict (`bool`, *optional*, defaults to `False`):\n",
      "            Whether to run predictions on the test set or not. This argument is not directly used by [`Trainer`], it's\n",
      "            intended to be used by your training/evaluation scripts instead. See the [example\n",
      "            scripts](https://github.com/huggingface/transformers/tree/main/examples) for more details.\n",
      "        evaluation_strategy (`str` or [`~trainer_utils.IntervalStrategy`], *optional*, defaults to `\"no\"`):\n",
      "            The evaluation strategy to adopt during training. Possible values are:\n",
      "\n",
      "                - `\"no\"`: No evaluation is done during training.\n",
      "                - `\"steps\"`: Evaluation is done (and logged) every `eval_steps`.\n",
      "                - `\"epoch\"`: Evaluation is done at the end of each epoch.\n",
      "\n",
      "        prediction_loss_only (`bool`, *optional*, defaults to `False`):\n",
      "            When performing evaluation and generating predictions, only returns the loss.\n",
      "        per_device_train_batch_size (`int`, *optional*, defaults to 8):\n",
      "            The batch size per GPU/TPU core/CPU for training.\n",
      "        per_device_eval_batch_size (`int`, *optional*, defaults to 8):\n",
      "            The batch size per GPU/TPU core/CPU for evaluation.\n",
      "        gradient_accumulation_steps (`int`, *optional*, defaults to 1):\n",
      "            Number of updates steps to accumulate the gradients for, before performing a backward/update pass.\n",
      "\n",
      "            <Tip warning={true}>\n",
      "\n",
      "            When using gradient accumulation, one step is counted as one step with backward pass. Therefore, logging,\n",
      "            evaluation, save will be conducted every `gradient_accumulation_steps * xxx_step` training examples.\n",
      "\n",
      "            </Tip>\n",
      "\n",
      "        eval_accumulation_steps (`int`, *optional*):\n",
      "            Number of predictions steps to accumulate the output tensors for, before moving the results to the CPU. If\n",
      "            left unset, the whole predictions are accumulated on GPU/TPU before being moved to the CPU (faster but\n",
      "            requires more memory).\n",
      "        eval_delay (`float`, *optional*):\n",
      "            Number of epochs or steps to wait for before the first evaluation can be performed, depending on the\n",
      "            evaluation_strategy.\n",
      "        learning_rate (`float`, *optional*, defaults to 5e-5):\n",
      "            The initial learning rate for [`AdamW`] optimizer.\n",
      "        weight_decay (`float`, *optional*, defaults to 0):\n",
      "            The weight decay to apply (if not zero) to all layers except all bias and LayerNorm weights in [`AdamW`]\n",
      "            optimizer.\n",
      "        adam_beta1 (`float`, *optional*, defaults to 0.9):\n",
      "            The beta1 hyperparameter for the [`AdamW`] optimizer.\n",
      "        adam_beta2 (`float`, *optional*, defaults to 0.999):\n",
      "            The beta2 hyperparameter for the [`AdamW`] optimizer.\n",
      "        adam_epsilon (`float`, *optional*, defaults to 1e-8):\n",
      "            The epsilon hyperparameter for the [`AdamW`] optimizer.\n",
      "        max_grad_norm (`float`, *optional*, defaults to 1.0):\n",
      "            Maximum gradient norm (for gradient clipping).\n",
      "        num_train_epochs(`float`, *optional*, defaults to 3.0):\n",
      "            Total number of training epochs to perform (if not an integer, will perform the decimal part percents of\n",
      "            the last epoch before stopping training).\n",
      "        max_steps (`int`, *optional*, defaults to -1):\n",
      "            If set to a positive number, the total number of training steps to perform. Overrides `num_train_epochs`.\n",
      "            In case of using a finite iterable dataset the training may stop before reaching the set number of steps\n",
      "            when all data is exhausted\n",
      "        lr_scheduler_type (`str` or [`SchedulerType`], *optional*, defaults to `\"linear\"`):\n",
      "            The scheduler type to use. See the documentation of [`SchedulerType`] for all possible values.\n",
      "        warmup_ratio (`float`, *optional*, defaults to 0.0):\n",
      "            Ratio of total training steps used for a linear warmup from 0 to `learning_rate`.\n",
      "        warmup_steps (`int`, *optional*, defaults to 0):\n",
      "            Number of steps used for a linear warmup from 0 to `learning_rate`. Overrides any effect of `warmup_ratio`.\n",
      "        log_level (`str`, *optional*, defaults to `passive`):\n",
      "            Logger log level to use on the main process. Possible choices are the log levels as strings: 'debug',\n",
      "            'info', 'warning', 'error' and 'critical', plus a 'passive' level which doesn't set anything and keeps the\n",
      "            current log level for the Transformers library (which will be `\"warning\"` by default).\n",
      "        log_level_replica (`str`, *optional*, defaults to `\"warning\"`):\n",
      "            Logger log level to use on replicas. Same choices as `log_level`\"\n",
      "        log_on_each_node (`bool`, *optional*, defaults to `True`):\n",
      "            In multinode distributed training, whether to log using `log_level` once per node, or only on the main\n",
      "            node.\n",
      "        logging_dir (`str`, *optional*):\n",
      "            [TensorBoard](https://www.tensorflow.org/tensorboard) log directory. Will default to\n",
      "            *output_dir/runs/**CURRENT_DATETIME_HOSTNAME***.\n",
      "        logging_strategy (`str` or [`~trainer_utils.IntervalStrategy`], *optional*, defaults to `\"steps\"`):\n",
      "            The logging strategy to adopt during training. Possible values are:\n",
      "\n",
      "                - `\"no\"`: No logging is done during training.\n",
      "                - `\"epoch\"`: Logging is done at the end of each epoch.\n",
      "                - `\"steps\"`: Logging is done every `logging_steps`.\n",
      "\n",
      "        logging_first_step (`bool`, *optional*, defaults to `False`):\n",
      "            Whether to log and evaluate the first `global_step` or not.\n",
      "        logging_steps (`int` or `float`, *optional*, defaults to 500):\n",
      "            Number of update steps between two logs if `logging_strategy=\"steps\"`. Should be an integer or a float in\n",
      "            range `[0,1)`. If smaller than 1, will be interpreted as ratio of total training steps.\n",
      "        logging_nan_inf_filter (`bool`, *optional*, defaults to `True`):\n",
      "            Whether to filter `nan` and `inf` losses for logging. If set to `True` the loss of every step that is `nan`\n",
      "            or `inf` is filtered and the average loss of the current logging window is taken instead.\n",
      "\n",
      "            <Tip>\n",
      "\n",
      "            `logging_nan_inf_filter` only influences the logging of loss values, it does not change the behavior the\n",
      "            gradient is computed or applied to the model.\n",
      "\n",
      "            </Tip>\n",
      "\n",
      "        save_strategy (`str` or [`~trainer_utils.IntervalStrategy`], *optional*, defaults to `\"steps\"`):\n",
      "            The checkpoint save strategy to adopt during training. Possible values are:\n",
      "\n",
      "                - `\"no\"`: No save is done during training.\n",
      "                - `\"epoch\"`: Save is done at the end of each epoch.\n",
      "                - `\"steps\"`: Save is done every `save_steps`.\n",
      "        save_steps (`int` or `float`, *optional*, defaults to 500):\n",
      "            Number of updates steps before two checkpoint saves if `save_strategy=\"steps\"`. Should be an integer or a\n",
      "            float in range `[0,1)`. If smaller than 1, will be interpreted as ratio of total training steps.\n",
      "        save_total_limit (`int`, *optional*):\n",
      "            If a value is passed, will limit the total amount of checkpoints. Deletes the older checkpoints in\n",
      "            `output_dir`. When `load_best_model_at_end` is enabled, the \"best\" checkpoint according to\n",
      "            `metric_for_best_model` will always be retained in addition to the most recent ones. For example, for\n",
      "            `save_total_limit=5` and `load_best_model_at_end`, the four last checkpoints will always be retained\n",
      "            alongside the best model. When `save_total_limit=1` and `load_best_model_at_end`, it is possible that two\n",
      "            checkpoints are saved: the last one and the best one (if they are different).\n",
      "        save_safetensors (`bool`, *optional*, defaults to `False`):\n",
      "            Use [safetensors](https://huggingface.co/docs/safetensors) saving and loading for state dicts instead of\n",
      "            default `torch.load` and `torch.save`.\n",
      "        save_on_each_node (`bool`, *optional*, defaults to `False`):\n",
      "            When doing multi-node distributed training, whether to save models and checkpoints on each node, or only on\n",
      "            the main one.\n",
      "\n",
      "            This should not be activated when the different nodes use the same storage as the files will be saved with\n",
      "            the same names for each node.\n",
      "        no_cuda (`bool`, *optional*, defaults to `False`):\n",
      "            Whether to not use CUDA even when it is available or not.\n",
      "        seed (`int`, *optional*, defaults to 42):\n",
      "            Random seed that will be set at the beginning of training. To ensure reproducibility across runs, use the\n",
      "            [`~Trainer.model_init`] function to instantiate the model if it has some randomly initialized parameters.\n",
      "        data_seed (`int`, *optional*):\n",
      "            Random seed to be used with data samplers. If not set, random generators for data sampling will use the\n",
      "            same seed as `seed`. This can be used to ensure reproducibility of data sampling, independent of the model\n",
      "            seed.\n",
      "        jit_mode_eval (`bool`, *optional*, defaults to `False`):\n",
      "            Whether or not to use PyTorch jit trace for inference.\n",
      "        use_ipex (`bool`, *optional*, defaults to `False`):\n",
      "            Use Intel extension for PyTorch when it is available. [IPEX\n",
      "            installation](https://github.com/intel/intel-extension-for-pytorch).\n",
      "        bf16 (`bool`, *optional*, defaults to `False`):\n",
      "            Whether to use bf16 16-bit (mixed) precision training instead of 32-bit training. Requires Ampere or higher\n",
      "            NVIDIA architecture or using CPU (no_cuda). This is an experimental API and it may change.\n",
      "        fp16 (`bool`, *optional*, defaults to `False`):\n",
      "            Whether to use fp16 16-bit (mixed) precision training instead of 32-bit training.\n",
      "        fp16_opt_level (`str`, *optional*, defaults to 'O1'):\n",
      "            For `fp16` training, Apex AMP optimization level selected in ['O0', 'O1', 'O2', and 'O3']. See details on\n",
      "            the [Apex documentation](https://nvidia.github.io/apex/amp).\n",
      "        fp16_backend (`str`, *optional*, defaults to `\"auto\"`):\n",
      "            This argument is deprecated. Use `half_precision_backend` instead.\n",
      "        half_precision_backend (`str`, *optional*, defaults to `\"auto\"`):\n",
      "            The backend to use for mixed precision training. Must be one of `\"auto\", \"cuda_amp\", \"apex\", \"cpu_amp\"`.\n",
      "            `\"auto\"` will use CPU/CUDA AMP or APEX depending on the PyTorch version detected, while the other choices\n",
      "            will force the requested backend.\n",
      "        bf16_full_eval (`bool`, *optional*, defaults to `False`):\n",
      "            Whether to use full bfloat16 evaluation instead of 32-bit. This will be faster and save memory but can harm\n",
      "            metric values. This is an experimental API and it may change.\n",
      "        fp16_full_eval (`bool`, *optional*, defaults to `False`):\n",
      "            Whether to use full float16 evaluation instead of 32-bit. This will be faster and save memory but can harm\n",
      "            metric values.\n",
      "        tf32 (`bool`, *optional*):\n",
      "            Whether to enable the TF32 mode, available in Ampere and newer GPU architectures. The default value depends\n",
      "            on PyTorch's version default of `torch.backends.cuda.matmul.allow_tf32`. For more details please refer to\n",
      "            the [TF32](https://huggingface.co/docs/transformers/performance#tf32) documentation. This is an\n",
      "            experimental API and it may change.\n",
      "        local_rank (`int`, *optional*, defaults to -1):\n",
      "            Rank of the process during distributed training.\n",
      "        ddp_backend (`str`, *optional*):\n",
      "            The backend to use for distributed training. Must be one of `\"nccl\"`, `\"mpi\"`, `\"ccl\"`, `\"gloo\"`.\n",
      "        tpu_num_cores (`int`, *optional*):\n",
      "            When training on TPU, the number of TPU cores (automatically passed by launcher script).\n",
      "        dataloader_drop_last (`bool`, *optional*, defaults to `False`):\n",
      "            Whether to drop the last incomplete batch (if the length of the dataset is not divisible by the batch size)\n",
      "            or not.\n",
      "        eval_steps (`int` or `float`, *optional*):\n",
      "            Number of update steps between two evaluations if `evaluation_strategy=\"steps\"`. Will default to the same\n",
      "            value as `logging_steps` if not set. Should be an integer or a float in range `[0,1)`. If smaller than 1,\n",
      "            will be interpreted as ratio of total training steps.\n",
      "        dataloader_num_workers (`int`, *optional*, defaults to 0):\n",
      "            Number of subprocesses to use for data loading (PyTorch only). 0 means that the data will be loaded in the\n",
      "            main process.\n",
      "        past_index (`int`, *optional*, defaults to -1):\n",
      "            Some models like [TransformerXL](../model_doc/transformerxl) or [XLNet](../model_doc/xlnet) can make use of\n",
      "            the past hidden states for their predictions. If this argument is set to a positive int, the `Trainer` will\n",
      "            use the corresponding output (usually index 2) as the past state and feed it to the model at the next\n",
      "            training step under the keyword argument `mems`.\n",
      "        run_name (`str`, *optional*):\n",
      "            A descriptor for the run. Typically used for [wandb](https://www.wandb.com/) and\n",
      "            [mlflow](https://www.mlflow.org/) logging.\n",
      "        disable_tqdm (`bool`, *optional*):\n",
      "            Whether or not to disable the tqdm progress bars and table of metrics produced by\n",
      "            [`~notebook.NotebookTrainingTracker`] in Jupyter Notebooks. Will default to `True` if the logging level is\n",
      "            set to warn or lower (default), `False` otherwise.\n",
      "        remove_unused_columns (`bool`, *optional*, defaults to `True`):\n",
      "            Whether or not to automatically remove the columns unused by the model forward method.\n",
      "\n",
      "            (Note that this behavior is not implemented for [`TFTrainer`] yet.)\n",
      "        label_names (`List[str]`, *optional*):\n",
      "            The list of keys in your dictionary of inputs that correspond to the labels.\n",
      "\n",
      "            Will eventually default to the list of argument names accepted by the model that contain the word \"label\",\n",
      "            except if the model used is one of the `XxxForQuestionAnswering` in which case it will also include the\n",
      "            `[\"start_positions\", \"end_positions\"]` keys.\n",
      "        load_best_model_at_end (`bool`, *optional*, defaults to `False`):\n",
      "            Whether or not to load the best model found during training at the end of training. When this option is\n",
      "            enabled, the best checkpoint will always be saved. See\n",
      "            [`save_total_limit`](https://huggingface.co/docs/transformers/main_classes/trainer#transformers.TrainingArguments.save_total_limit)\n",
      "            for more.\n",
      "\n",
      "            <Tip>\n",
      "\n",
      "            When set to `True`, the parameters `save_strategy` needs to be the same as `evaluation_strategy`, and in\n",
      "            the case it is \"steps\", `save_steps` must be a round multiple of `eval_steps`.\n",
      "\n",
      "            </Tip>\n",
      "\n",
      "        metric_for_best_model (`str`, *optional*):\n",
      "            Use in conjunction with `load_best_model_at_end` to specify the metric to use to compare two different\n",
      "            models. Must be the name of a metric returned by the evaluation with or without the prefix `\"eval_\"`. Will\n",
      "            default to `\"loss\"` if unspecified and `load_best_model_at_end=True` (to use the evaluation loss).\n",
      "\n",
      "            If you set this value, `greater_is_better` will default to `True`. Don't forget to set it to `False` if\n",
      "            your metric is better when lower.\n",
      "        greater_is_better (`bool`, *optional*):\n",
      "            Use in conjunction with `load_best_model_at_end` and `metric_for_best_model` to specify if better models\n",
      "            should have a greater metric or not. Will default to:\n",
      "\n",
      "            - `True` if `metric_for_best_model` is set to a value that isn't `\"loss\"` or `\"eval_loss\"`.\n",
      "            - `False` if `metric_for_best_model` is not set, or set to `\"loss\"` or `\"eval_loss\"`.\n",
      "        ignore_data_skip (`bool`, *optional*, defaults to `False`):\n",
      "            When resuming training, whether or not to skip the epochs and batches to get the data loading at the same\n",
      "            stage as in the previous training. If set to `True`, the training will begin faster (as that skipping step\n",
      "            can take a long time) but will not yield the same results as the interrupted training would have.\n",
      "        sharded_ddp (`bool`, `str` or list of [`~trainer_utils.ShardedDDPOption`], *optional*, defaults to `False`):\n",
      "            Use Sharded DDP training from [FairScale](https://github.com/facebookresearch/fairscale) (in distributed\n",
      "            training only). This is an experimental feature.\n",
      "\n",
      "            A list of options along the following:\n",
      "\n",
      "            - `\"simple\"`: to use first instance of sharded DDP released by fairscale (`ShardedDDP`) similar to ZeRO-2.\n",
      "            - `\"zero_dp_2\"`: to use the second instance of sharded DPP released by fairscale (`FullyShardedDDP`) in\n",
      "              Zero-2 mode (with `reshard_after_forward=False`).\n",
      "            - `\"zero_dp_3\"`: to use the second instance of sharded DPP released by fairscale (`FullyShardedDDP`) in\n",
      "              Zero-3 mode (with `reshard_after_forward=True`).\n",
      "            - `\"offload\"`: to add ZeRO-offload (only compatible with `\"zero_dp_2\"` and `\"zero_dp_3\"`).\n",
      "\n",
      "            If a string is passed, it will be split on space. If a bool is passed, it will be converted to an empty\n",
      "            list for `False` and `[\"simple\"]` for `True`.\n",
      "        fsdp (`bool`, `str` or list of [`~trainer_utils.FSDPOption`], *optional*, defaults to `False`):\n",
      "            Use PyTorch Distributed Parallel Training (in distributed training only).\n",
      "\n",
      "            A list of options along the following:\n",
      "\n",
      "            - `\"full_shard\"`: Shard parameters, gradients and optimizer states.\n",
      "            - `\"shard_grad_op\"`: Shard optimizer states and gradients.\n",
      "            - `\"offload\"`: Offload parameters and gradients to CPUs (only compatible with `\"full_shard\"` and\n",
      "              `\"shard_grad_op\"`).\n",
      "            - `\"auto_wrap\"`: Automatically recursively wrap layers with FSDP using `default_auto_wrap_policy`.\n",
      "        fsdp_config (`str` or `dict`, *optional*):\n",
      "            Config to be used with fsdp (Pytorch Distributed Parallel Training). The value is either a location of\n",
      "            deepspeed json config file (e.g., `ds_config.json`) or an already loaded json file as `dict`.\n",
      "\n",
      "            A List of config and its options:\n",
      "                - fsdp_min_num_params (`int`, *optional*, defaults to `0`):\n",
      "                    FSDP's minimum number of parameters for Default Auto Wrapping. (useful only when `fsdp` field is\n",
      "                    passed).\n",
      "                - fsdp_transformer_layer_cls_to_wrap (`List[str]`, *optional*):\n",
      "                    List of transformer layer class names (case-sensitive) to wrap, e.g, `BertLayer`, `GPTJBlock`,\n",
      "                    `T5Block` .... (useful only when `fsdp` flag is passed).\n",
      "                - fsdp_backward_prefetch (`str`, *optional*)\n",
      "                    FSDP's backward prefetch mode. Controls when to prefetch next set of parameters (useful only when\n",
      "                    `fsdp` field is passed).\n",
      "\n",
      "                    A list of options along the following:\n",
      "\n",
      "                    - `\"backward_pre\"` : Prefetches the next set of parameters before the current set of parameter's\n",
      "                      gradient\n",
      "                        computation.\n",
      "                    - `\"backward_post\"` : This prefetches the next set of parameters after the current set of\n",
      "                      parameter’s\n",
      "                        gradient computation.\n",
      "                - fsdp_forward_prefetch (`bool`, *optional*, defaults to `False`)\n",
      "                    FSDP's forward prefetch mode (useful only when `fsdp` field is passed).\n",
      "                     If `\"True\"`, then FSDP explicitly prefetches the next upcoming all-gather while executing in the\n",
      "                     forward pass.\n",
      "                - limit_all_gathers (`bool`, *optional*, defaults to `False`)\n",
      "                    FSDP's limit_all_gathers (useful only when `fsdp` field is passed).\n",
      "                     If `\"True\"`, FSDP explicitly synchronizes the CPU thread to prevent too many in-flight\n",
      "                     all-gathers.\n",
      "                - xla (`bool`, *optional*, defaults to `False`):\n",
      "                    Whether to use PyTorch/XLA Fully Sharded Data Parallel Training. This is an experimental feature\n",
      "                    and its API may evolve in the future.\n",
      "                - xla_fsdp_settings (`dict`, *optional*)\n",
      "                    The value is a dictionary which stores the XLA FSDP wrapping parameters.\n",
      "\n",
      "                    For a complete list of options, please see [here](\n",
      "                    https://github.com/pytorch/xla/blob/master/torch_xla/distributed/fsdp/xla_fully_sharded_data_parallel.py).\n",
      "                - xla_fsdp_grad_ckpt (`bool`, *optional*, defaults to `False`):\n",
      "                    Will use gradient checkpointing over each nested XLA FSDP wrapped layer. This setting can only be\n",
      "                    used when the xla flag is set to true, and an auto wrapping policy is specified through\n",
      "                    fsdp_min_num_params or fsdp_transformer_layer_cls_to_wrap.\n",
      "\n",
      "        deepspeed (`str` or `dict`, *optional*):\n",
      "            Use [Deepspeed](https://github.com/microsoft/deepspeed). This is an experimental feature and its API may\n",
      "            evolve in the future. The value is either the location of DeepSpeed json config file (e.g.,\n",
      "            `ds_config.json`) or an already loaded json file as a `dict`\"\n",
      "        label_smoothing_factor (`float`, *optional*, defaults to 0.0):\n",
      "            The label smoothing factor to use. Zero means no label smoothing, otherwise the underlying onehot-encoded\n",
      "            labels are changed from 0s and 1s to `label_smoothing_factor/num_labels` and `1 - label_smoothing_factor +\n",
      "            label_smoothing_factor/num_labels` respectively.\n",
      "        debug (`str` or list of [`~debug_utils.DebugOption`], *optional*, defaults to `\"\"`):\n",
      "            Enable one or more debug features. This is an experimental feature.\n",
      "\n",
      "            Possible options are:\n",
      "\n",
      "            - `\"underflow_overflow\"`: detects overflow in model's input/outputs and reports the last frames that led to\n",
      "              the event\n",
      "            - `\"tpu_metrics_debug\"`: print debug metrics on TPU\n",
      "\n",
      "            The options should be separated by whitespaces.\n",
      "        optim (`str` or [`training_args.OptimizerNames`], *optional*, defaults to `\"adamw_hf\"`):\n",
      "            The optimizer to use: adamw_hf, adamw_torch, adamw_torch_fused, adamw_apex_fused, adamw_anyprecision or\n",
      "            adafactor.\n",
      "        optim_args (`str`, *optional*):\n",
      "            Optional arguments that are supplied to AnyPrecisionAdamW.\n",
      "        group_by_length (`bool`, *optional*, defaults to `False`):\n",
      "            Whether or not to group together samples of roughly the same length in the training dataset (to minimize\n",
      "            padding applied and be more efficient). Only useful if applying dynamic padding.\n",
      "        length_column_name (`str`, *optional*, defaults to `\"length\"`):\n",
      "            Column name for precomputed lengths. If the column exists, grouping by length will use these values rather\n",
      "            than computing them on train startup. Ignored unless `group_by_length` is `True` and the dataset is an\n",
      "            instance of `Dataset`.\n",
      "        report_to (`str` or `List[str]`, *optional*, defaults to `\"all\"`):\n",
      "            The list of integrations to report the results and logs to. Supported platforms are `\"azure_ml\"`,\n",
      "            `\"comet_ml\"`, `\"mlflow\"`, `\"neptune\"`, `\"tensorboard\"`,`\"clearml\"` and `\"wandb\"`. Use `\"all\"` to report to\n",
      "            all integrations installed, `\"none\"` for no integrations.\n",
      "        ddp_find_unused_parameters (`bool`, *optional*):\n",
      "            When using distributed training, the value of the flag `find_unused_parameters` passed to\n",
      "            `DistributedDataParallel`. Will default to `False` if gradient checkpointing is used, `True` otherwise.\n",
      "        ddp_bucket_cap_mb (`int`, *optional*):\n",
      "            When using distributed training, the value of the flag `bucket_cap_mb` passed to `DistributedDataParallel`.\n",
      "        ddp_broadcast_buffers (`bool`, *optional*):\n",
      "            When using distributed training, the value of the flag `broadcast_buffers` passed to\n",
      "            `DistributedDataParallel`. Will default to `False` if gradient checkpointing is used, `True` otherwise.\n",
      "        dataloader_pin_memory (`bool`, *optional*, defaults to `True`):\n",
      "            Whether you want to pin memory in data loaders or not. Will default to `True`.\n",
      "        skip_memory_metrics (`bool`, *optional*, defaults to `True`):\n",
      "            Whether to skip adding of memory profiler reports to metrics. This is skipped by default because it slows\n",
      "            down the training and evaluation speed.\n",
      "        push_to_hub (`bool`, *optional*, defaults to `False`):\n",
      "            Whether or not to push the model to the Hub every time the model is saved. If this is activated,\n",
      "            `output_dir` will begin a git directory synced with the repo (determined by `hub_model_id`) and the content\n",
      "            will be pushed each time a save is triggered (depending on your `save_strategy`). Calling\n",
      "            [`~Trainer.save_model`] will also trigger a push.\n",
      "\n",
      "            <Tip warning={true}>\n",
      "\n",
      "            If `output_dir` exists, it needs to be a local clone of the repository to which the [`Trainer`] will be\n",
      "            pushed.\n",
      "\n",
      "            </Tip>\n",
      "\n",
      "        resume_from_checkpoint (`str`, *optional*):\n",
      "            The path to a folder with a valid checkpoint for your model. This argument is not directly used by\n",
      "            [`Trainer`], it's intended to be used by your training/evaluation scripts instead. See the [example\n",
      "            scripts](https://github.com/huggingface/transformers/tree/main/examples) for more details.\n",
      "        hub_model_id (`str`, *optional*):\n",
      "            The name of the repository to keep in sync with the local *output_dir*. It can be a simple model ID in\n",
      "            which case the model will be pushed in your namespace. Otherwise it should be the whole repository name,\n",
      "            for instance `\"user_name/model\"`, which allows you to push to an organization you are a member of with\n",
      "            `\"organization_name/model\"`. Will default to `user_name/output_dir_name` with *output_dir_name* being the\n",
      "            name of `output_dir`.\n",
      "\n",
      "            Will default to the name of `output_dir`.\n",
      "        hub_strategy (`str` or [`~trainer_utils.HubStrategy`], *optional*, defaults to `\"every_save\"`):\n",
      "            Defines the scope of what is pushed to the Hub and when. Possible values are:\n",
      "\n",
      "            - `\"end\"`: push the model, its configuration, the tokenizer (if passed along to the [`Trainer`]) and a\n",
      "              draft of a model card when the [`~Trainer.save_model`] method is called.\n",
      "            - `\"every_save\"`: push the model, its configuration, the tokenizer (if passed along to the [`Trainer`]) and\n",
      "              a draft of a model card each time there is a model save. The pushes are asynchronous to not block\n",
      "              training, and in case the save are very frequent, a new push is only attempted if the previous one is\n",
      "              finished. A last push is made with the final model at the end of training.\n",
      "            - `\"checkpoint\"`: like `\"every_save\"` but the latest checkpoint is also pushed in a subfolder named\n",
      "              last-checkpoint, allowing you to resume training easily with\n",
      "              `trainer.train(resume_from_checkpoint=\"last-checkpoint\")`.\n",
      "            - `\"all_checkpoints\"`: like `\"checkpoint\"` but all checkpoints are pushed like they appear in the output\n",
      "              folder (so you will get one checkpoint folder per folder in your final repository)\n",
      "\n",
      "        hub_token (`str`, *optional*):\n",
      "            The token to use to push the model to the Hub. Will default to the token in the cache folder obtained with\n",
      "            `huggingface-cli login`.\n",
      "        hub_private_repo (`bool`, *optional*, defaults to `False`):\n",
      "            If True, the Hub repo will be set to private.\n",
      "        gradient_checkpointing (`bool`, *optional*, defaults to `False`):\n",
      "            If True, use gradient checkpointing to save memory at the expense of slower backward pass.\n",
      "        include_inputs_for_metrics (`bool`, *optional*, defaults to `False`):\n",
      "            Whether or not the inputs will be passed to the `compute_metrics` function. This is intended for metrics\n",
      "            that need inputs, predictions and references for scoring calculation in Metric class.\n",
      "        auto_find_batch_size (`bool`, *optional*, defaults to `False`)\n",
      "            Whether to find a batch size that will fit into memory automatically through exponential decay, avoiding\n",
      "            CUDA Out-of-Memory errors. Requires accelerate to be installed (`pip install accelerate`)\n",
      "        full_determinism (`bool`, *optional*, defaults to `False`)\n",
      "            If `True`, [`enable_full_determinism`] is called instead of [`set_seed`] to ensure reproducible results in\n",
      "            distributed training. Important: this will negatively impact the performance, so only use it for debugging.\n",
      "        torchdynamo (`str`, *optional*):\n",
      "            If set, the backend compiler for TorchDynamo. Possible choices are `\"eager\"`, `\"aot_eager\"`, `\"inductor\"`,\n",
      "            `\"nvfuser\"`, `\"aot_nvfuser\"`, `\"aot_cudagraphs\"`, `\"ofi\"`, `\"fx2trt\"`, `\"onnxrt\"` and `\"ipex\"`.\n",
      "        ray_scope (`str`, *optional*, defaults to `\"last\"`):\n",
      "            The scope to use when doing hyperparameter search with Ray. By default, `\"last\"` will be used. Ray will\n",
      "            then use the last checkpoint of all trials, compare those, and select the best one. However, other options\n",
      "            are also available. See the [Ray documentation](\n",
      "            https://docs.ray.io/en/latest/tune/api_docs/analysis.html#ray.tune.ExperimentAnalysis.get_best_trial) for\n",
      "            more options.\n",
      "        ddp_timeout (`int`, *optional*, defaults to 1800):\n",
      "            The timeout for `torch.distributed.init_process_group` calls, used to avoid GPU socket timeouts when\n",
      "            performing slow operations in distributed runnings. Please refer the [PyTorch documentation]\n",
      "            (https://pytorch.org/docs/stable/distributed.html#torch.distributed.init_process_group) for more\n",
      "            information.\n",
      "        use_mps_device (`bool`, *optional*, defaults to `False`):\n",
      "            This argument is deprecated.`mps` device will be used if it is available similar to `cuda` device.\n",
      "        torch_compile (`bool`, *optional*, defaults to `False`):\n",
      "            Whether or not to compile the model using PyTorch 2.0\n",
      "            [`torch.compile`](https://pytorch.org/get-started/pytorch-2.0/).\n",
      "\n",
      "            This will use the best defaults for the [`torch.compile`\n",
      "            API](https://pytorch.org/docs/stable/generated/torch.compile.html?highlight=torch+compile#torch.compile).\n",
      "            You can customize the defaults with the argument `torch_compile_backend` and `torch_compile_mode` but we\n",
      "            don't guarantee any of them will work as the support is progressively rolled in in PyTorch.\n",
      "\n",
      "            This flag and the whole compile API is experimental and subject to change in future releases.\n",
      "        torch_compile_backend (`str`, *optional*):\n",
      "            The backend to use in `torch.compile`. If set to any value, `torch_compile` will be set to `True`.\n",
      "\n",
      "            Refer to the PyTorch doc for possible values and note that they may change across PyTorch versions.\n",
      "\n",
      "            This flag is experimental and subject to change in future releases.\n",
      "        torch_compile_mode (`str`, *optional*):\n",
      "            The mode to use in `torch.compile`. If set to any value, `torch_compile` will be set to `True`.\n",
      "\n",
      "            Refer to the PyTorch doc for possible values and note that they may change across PyTorch versions.\n",
      "\n",
      "            This flag is experimental and subject to change in future releases.\n",
      "    \n",
      "    Args:\n",
      "        sortish_sampler (`bool`, *optional*, defaults to `False`):\n",
      "            Whether to use a *sortish sampler* or not. Only possible if the underlying datasets are *Seq2SeqDataset*\n",
      "            for now but will become generally available in the near future.\n",
      "\n",
      "            It sorts the inputs according to lengths in order to minimize the padding size, with a bit of randomness\n",
      "            for the training set.\n",
      "        predict_with_generate (`bool`, *optional*, defaults to `False`):\n",
      "            Whether to use generate to calculate generative metrics (ROUGE, BLEU).\n",
      "        generation_max_length (`int`, *optional*):\n",
      "            The `max_length` to use on each evaluation loop when `predict_with_generate=True`. Will default to the\n",
      "            `max_length` value of the model configuration.\n",
      "        generation_num_beams (`int`, *optional*):\n",
      "            The `num_beams` to use on each evaluation loop when `predict_with_generate=True`. Will default to the\n",
      "            `num_beams` value of the model configuration.\n",
      "        generation_config (`str` or `Path` or [`~generation.GenerationConfig`], *optional*):\n",
      "            Allows to load a [`~generation.GenerationConfig`] from the `from_pretrained` method. This can be either:\n",
      "\n",
      "            - a string, the *model id* of a pretrained model configuration hosted inside a model repo on\n",
      "              huggingface.co. Valid model ids can be located at the root-level, like `bert-base-uncased`, or namespaced\n",
      "              under a user or organization name, like `dbmdz/bert-base-german-cased`.\n",
      "            - a path to a *directory* containing a configuration file saved using the\n",
      "              [`~GenerationConfig.save_pretrained`] method, e.g., `./my_model_directory/`.\n",
      "            - a [`~generation.GenerationConfig`] object.\n",
      "    \n"
     ]
    }
   ],
   "source": [
    "print(Seq2SeqTrainingArguments.__doc__)"
   ]
  },
  {
   "cell_type": "markdown",
   "id": "e9577edf",
   "metadata": {},
   "source": [
    "## That list is just too long, what are the `TrainingArguments` you've used here?\n",
    "\n",
    "Sure, here's a quick explanation:\n",
    "\n",
    " - `per_device_train_batch_size=4, per_device_eval_batch_size=4` are the batch size options\n",
    "   - alternatively, you can use `auto_find_batch_size=True` and that'll *\"find a batch size that will fit into memory automatically through exponential decay, avoiding CUDA Out-of-Memory errors.\"*\n",
    "   \n",
    "   \n",
    " - `logging_steps=1, save_steps=5, eval_steps=5, max_steps=10, evaluation_strategy=\"steps\",`\n",
    "   - these are the model updates, saving, validation, logging and stopping strategies\n",
    "\n",
    "   - `logging_steps=1` means we print out the training loss every 1 step\n",
    "      - This can be reduced to be the same as the `eval_steps` \n",
    "      - esp. if you are only concerned about the BLEU scores and not training loss.\n",
    "      \n",
    "   - `evaluation_strategy=\"steps\"` means that we use no. of steps before we check the score of the model on the validation dataset, the possible strategies are:\n",
    "      - `\"no\"`: No evaluation is done during training.\n",
    "      - `\"steps\"`: Evaluation is done (and logged) every `eval_steps`.\n",
    "      - `\"epoch\"`: Evaluation is done at the end of each epoch.   \n",
    "     \n",
    "   - `max_steps=10` means we only take 10 steps when training the model\n",
    "   - `eval_steps=5` means we check the validation metric scores every 5 steps\n",
    "   - `save_steps=5` means we save the model every 5 steps, \n",
    "      - It makes sense to save the model everytime you check the validation scores \n",
    "      - so making `save_steps` and `eval_steps` the same would be good.\n",
    "\n",
    "\n",
    " - `predict_with_generate=True`: this is necessary to compute MT metrics scores which requires the input to the metrics to be string, for some other tasks evaluation metrics can use the final layer outputs directly without generating the \"labels\" / \"text\". \n",
    " \n",
    " \n",
    " - `report_to=None`: This is to allow model tracking dashboard integrations to report the results and logs to. \n",
    "   - Supported platforms are `\"azure_ml\"`, `\"comet_ml\"`, `\"mlflow\"`, `\"neptune\"`, `\"tensorboard\"`,`\"clearml\"` and `\"wandb\"`. Use `\"all\"` to report to all integrations installed, `\"none\"` for no integrations.\n",
    "   \n",
    "   \n",
    " - `metric_for_best_model=\"chr_f_score\"`: Remember that when we use the `evaluate.combine(...).compute()`, it returns the dictionary? We need to pick one of the key there to use as the metric to select the best model.\n",
    " \n",
    " \n",
    " - `load_best_model_at_end=True`: Whether or not to load the best model found during training at the end of training. When this option is enabled, the best checkpoint will always be saved.\n",
    " \n",
    " \n",
    " - `save_total_limit=5`: This will limit the no. of checkpoints saved during training. It will only save a max of up to 5 latest checkpoints, and if `load_best_model_at_end=True`, it'll save 4 latest checkpoint + 1 best checkpoint.\n",
    "   - Tip: Always set this to a fix number so that the disk don't max out easily."
   ]
  },
  {
   "cell_type": "code",
   "execution_count": 201,
   "id": "153f3e1d",
   "metadata": {},
   "outputs": [],
   "source": [
    "training_args = Seq2SeqTrainingArguments(\n",
    "    output_dir='./',\n",
    "    per_device_train_batch_size=4,\n",
    "    per_device_eval_batch_size=4,\n",
    "    logging_steps=1,\n",
    "    save_steps=10,\n",
    "    eval_steps=10,\n",
    "    max_steps=200,\n",
    "    evaluation_strategy=\"steps\",\n",
    "    predict_with_generate=True,\n",
    "    report_to=None,\n",
    "    metric_for_best_model=\"chr_f_score\",\n",
    "    load_best_model_at_end=True,\n",
    "    save_total_limit=5\n",
    ")\n",
    "\n",
    "\n",
    "trainer = Seq2SeqTrainer(\n",
    "    model=model,\n",
    "    args=training_args,\n",
    "    train_dataset=kopi_dataset['train'].with_format(\"torch\"),\n",
    "    eval_dataset=kopi_dataset['dev'].with_format(\"torch\"),\n",
    "    compute_metrics=compute_metrics,\n",
    ")\n"
   ]
  },
  {
   "cell_type": "code",
   "execution_count": 202,
   "id": "27c4f6c9",
   "metadata": {},
   "outputs": [
    {
     "data": {
      "text/html": [
       "\n",
       "    <div>\n",
       "      \n",
       "      <progress value='200' max='200' style='width:300px; height:20px; vertical-align: middle;'></progress>\n",
       "      [200/200 06:09, Epoch 5/6]\n",
       "    </div>\n",
       "    <table border=\"1\" class=\"dataframe\">\n",
       "  <thead>\n",
       " <tr style=\"text-align: left;\">\n",
       "      <th>Step</th>\n",
       "      <th>Training Loss</th>\n",
       "      <th>Validation Loss</th>\n",
       "      <th>Bleu Bleu</th>\n",
       "      <th>Bleu Precisions</th>\n",
       "      <th>Bleu Brevity Penalty</th>\n",
       "      <th>Bleu Length Ratio</th>\n",
       "      <th>Bleu Translation Length</th>\n",
       "      <th>Bleu Reference Length</th>\n",
       "      <th>Chr F Score</th>\n",
       "      <th>Chr F Char Order</th>\n",
       "      <th>Chr F Word Order</th>\n",
       "      <th>Chr F Beta</th>\n",
       "    </tr>\n",
       "  </thead>\n",
       "  <tbody>\n",
       "    <tr>\n",
       "      <td>10</td>\n",
       "      <td>3.427500</td>\n",
       "      <td>3.028779</td>\n",
       "      <td>0.133659</td>\n",
       "      <td>[0.375, 0.19148936170212766, 0.06666666666666667, 0.06666666666666667]</td>\n",
       "      <td>1.000000</td>\n",
       "      <td>1.049180</td>\n",
       "      <td>64</td>\n",
       "      <td>61</td>\n",
       "      <td>45.230381</td>\n",
       "      <td>6</td>\n",
       "      <td>0</td>\n",
       "      <td>2</td>\n",
       "    </tr>\n",
       "    <tr>\n",
       "      <td>20</td>\n",
       "      <td>2.335800</td>\n",
       "      <td>2.716913</td>\n",
       "      <td>0.000000</td>\n",
       "      <td>[0.27419354838709675, 0.1111111111111111, 0.03571428571428571, 0.0]</td>\n",
       "      <td>1.000000</td>\n",
       "      <td>1.016393</td>\n",
       "      <td>62</td>\n",
       "      <td>61</td>\n",
       "      <td>46.951882</td>\n",
       "      <td>6</td>\n",
       "      <td>0</td>\n",
       "      <td>2</td>\n",
       "    </tr>\n",
       "    <tr>\n",
       "      <td>30</td>\n",
       "      <td>2.403500</td>\n",
       "      <td>2.486472</td>\n",
       "      <td>0.000000</td>\n",
       "      <td>[0.40384615384615385, 0.2857142857142857, 0.2222222222222222, 0.0]</td>\n",
       "      <td>0.841073</td>\n",
       "      <td>0.852459</td>\n",
       "      <td>52</td>\n",
       "      <td>61</td>\n",
       "      <td>50.145481</td>\n",
       "      <td>6</td>\n",
       "      <td>0</td>\n",
       "      <td>2</td>\n",
       "    </tr>\n",
       "    <tr>\n",
       "      <td>40</td>\n",
       "      <td>1.457300</td>\n",
       "      <td>2.441367</td>\n",
       "      <td>0.246252</td>\n",
       "      <td>[0.39705882352941174, 0.2549019607843137, 0.20588235294117646, 0.17647058823529413]</td>\n",
       "      <td>1.000000</td>\n",
       "      <td>1.114754</td>\n",
       "      <td>68</td>\n",
       "      <td>61</td>\n",
       "      <td>54.412557</td>\n",
       "      <td>6</td>\n",
       "      <td>0</td>\n",
       "      <td>2</td>\n",
       "    </tr>\n",
       "    <tr>\n",
       "      <td>50</td>\n",
       "      <td>1.103900</td>\n",
       "      <td>2.382429</td>\n",
       "      <td>0.191926</td>\n",
       "      <td>[0.3582089552238806, 0.2, 0.15151515151515152, 0.125]</td>\n",
       "      <td>1.000000</td>\n",
       "      <td>1.098361</td>\n",
       "      <td>67</td>\n",
       "      <td>61</td>\n",
       "      <td>51.997505</td>\n",
       "      <td>6</td>\n",
       "      <td>0</td>\n",
       "      <td>2</td>\n",
       "    </tr>\n",
       "    <tr>\n",
       "      <td>60</td>\n",
       "      <td>2.066300</td>\n",
       "      <td>2.265625</td>\n",
       "      <td>0.258303</td>\n",
       "      <td>[0.4090909090909091, 0.2653061224489796, 0.21875, 0.1875]</td>\n",
       "      <td>1.000000</td>\n",
       "      <td>1.081967</td>\n",
       "      <td>66</td>\n",
       "      <td>61</td>\n",
       "      <td>53.881481</td>\n",
       "      <td>6</td>\n",
       "      <td>0</td>\n",
       "      <td>2</td>\n",
       "    </tr>\n",
       "    <tr>\n",
       "      <td>70</td>\n",
       "      <td>0.926300</td>\n",
       "      <td>2.244520</td>\n",
       "      <td>0.128396</td>\n",
       "      <td>[0.3787878787878788, 0.1836734693877551, 0.0625, 0.0625]</td>\n",
       "      <td>1.000000</td>\n",
       "      <td>1.081967</td>\n",
       "      <td>66</td>\n",
       "      <td>61</td>\n",
       "      <td>49.949855</td>\n",
       "      <td>6</td>\n",
       "      <td>0</td>\n",
       "      <td>2</td>\n",
       "    </tr>\n",
       "    <tr>\n",
       "      <td>80</td>\n",
       "      <td>0.833100</td>\n",
       "      <td>2.305717</td>\n",
       "      <td>0.212624</td>\n",
       "      <td>[0.43137254901960786, 0.2647058823529412, 0.11764705882352941, 0.3333333333333333]</td>\n",
       "      <td>0.821948</td>\n",
       "      <td>0.836066</td>\n",
       "      <td>51</td>\n",
       "      <td>61</td>\n",
       "      <td>46.064509</td>\n",
       "      <td>6</td>\n",
       "      <td>0</td>\n",
       "      <td>2</td>\n",
       "    </tr>\n",
       "    <tr>\n",
       "      <td>90</td>\n",
       "      <td>0.469600</td>\n",
       "      <td>2.201389</td>\n",
       "      <td>0.134017</td>\n",
       "      <td>[0.4, 0.1875, 0.06451612903225806, 0.06666666666666667]</td>\n",
       "      <td>1.000000</td>\n",
       "      <td>1.065574</td>\n",
       "      <td>65</td>\n",
       "      <td>61</td>\n",
       "      <td>47.951283</td>\n",
       "      <td>6</td>\n",
       "      <td>0</td>\n",
       "      <td>2</td>\n",
       "    </tr>\n",
       "    <tr>\n",
       "      <td>100</td>\n",
       "      <td>0.690700</td>\n",
       "      <td>2.128309</td>\n",
       "      <td>0.319131</td>\n",
       "      <td>[0.40625, 0.3191489361702128, 0.3, 0.26666666666666666]</td>\n",
       "      <td>1.000000</td>\n",
       "      <td>1.049180</td>\n",
       "      <td>64</td>\n",
       "      <td>61</td>\n",
       "      <td>59.351783</td>\n",
       "      <td>6</td>\n",
       "      <td>0</td>\n",
       "      <td>2</td>\n",
       "    </tr>\n",
       "    <tr>\n",
       "      <td>110</td>\n",
       "      <td>0.496600</td>\n",
       "      <td>2.094268</td>\n",
       "      <td>0.392703</td>\n",
       "      <td>[0.4915254237288136, 0.38095238095238093, 0.4, 0.36363636363636365]</td>\n",
       "      <td>0.966670</td>\n",
       "      <td>0.967213</td>\n",
       "      <td>59</td>\n",
       "      <td>61</td>\n",
       "      <td>62.229881</td>\n",
       "      <td>6</td>\n",
       "      <td>0</td>\n",
       "      <td>2</td>\n",
       "    </tr>\n",
       "    <tr>\n",
       "      <td>120</td>\n",
       "      <td>1.990700</td>\n",
       "      <td>2.119594</td>\n",
       "      <td>0.148373</td>\n",
       "      <td>[0.38461538461538464, 0.20833333333333334, 0.0967741935483871, 0.0625]</td>\n",
       "      <td>1.000000</td>\n",
       "      <td>1.065574</td>\n",
       "      <td>65</td>\n",
       "      <td>61</td>\n",
       "      <td>50.067308</td>\n",
       "      <td>6</td>\n",
       "      <td>0</td>\n",
       "      <td>2</td>\n",
       "    </tr>\n",
       "    <tr>\n",
       "      <td>130</td>\n",
       "      <td>0.782000</td>\n",
       "      <td>2.060826</td>\n",
       "      <td>0.342168</td>\n",
       "      <td>[0.4444444444444444, 0.34782608695652173, 0.3103448275862069, 0.2857142857142857]</td>\n",
       "      <td>1.000000</td>\n",
       "      <td>1.032787</td>\n",
       "      <td>63</td>\n",
       "      <td>61</td>\n",
       "      <td>57.507063</td>\n",
       "      <td>6</td>\n",
       "      <td>0</td>\n",
       "      <td>2</td>\n",
       "    </tr>\n",
       "    <tr>\n",
       "      <td>140</td>\n",
       "      <td>0.833700</td>\n",
       "      <td>2.067009</td>\n",
       "      <td>0.319801</td>\n",
       "      <td>[0.5, 0.35135135135135137, 0.3, 0.3333333333333333]</td>\n",
       "      <td>0.878421</td>\n",
       "      <td>0.885246</td>\n",
       "      <td>54</td>\n",
       "      <td>61</td>\n",
       "      <td>59.314585</td>\n",
       "      <td>6</td>\n",
       "      <td>0</td>\n",
       "      <td>2</td>\n",
       "    </tr>\n",
       "    <tr>\n",
       "      <td>150</td>\n",
       "      <td>0.314000</td>\n",
       "      <td>2.073090</td>\n",
       "      <td>0.163461</td>\n",
       "      <td>[0.4126984126984127, 0.21739130434782608, 0.10344827586206896, 0.07692307692307693]</td>\n",
       "      <td>1.000000</td>\n",
       "      <td>1.032787</td>\n",
       "      <td>63</td>\n",
       "      <td>61</td>\n",
       "      <td>52.485116</td>\n",
       "      <td>6</td>\n",
       "      <td>0</td>\n",
       "      <td>2</td>\n",
       "    </tr>\n",
       "    <tr>\n",
       "      <td>160</td>\n",
       "      <td>0.284700</td>\n",
       "      <td>2.039598</td>\n",
       "      <td>0.377094</td>\n",
       "      <td>[0.45614035087719296, 0.375, 0.391304347826087, 0.4]</td>\n",
       "      <td>0.932230</td>\n",
       "      <td>0.934426</td>\n",
       "      <td>57</td>\n",
       "      <td>61</td>\n",
       "      <td>58.188380</td>\n",
       "      <td>6</td>\n",
       "      <td>0</td>\n",
       "      <td>2</td>\n",
       "    </tr>\n",
       "    <tr>\n",
       "      <td>170</td>\n",
       "      <td>0.284400</td>\n",
       "      <td>2.053160</td>\n",
       "      <td>0.377094</td>\n",
       "      <td>[0.45614035087719296, 0.375, 0.391304347826087, 0.4]</td>\n",
       "      <td>0.932230</td>\n",
       "      <td>0.934426</td>\n",
       "      <td>57</td>\n",
       "      <td>61</td>\n",
       "      <td>58.126383</td>\n",
       "      <td>6</td>\n",
       "      <td>0</td>\n",
       "      <td>2</td>\n",
       "    </tr>\n",
       "    <tr>\n",
       "      <td>180</td>\n",
       "      <td>0.663700</td>\n",
       "      <td>2.090876</td>\n",
       "      <td>0.337120</td>\n",
       "      <td>[0.4745762711864407, 0.35714285714285715, 0.32, 0.2727272727272727]</td>\n",
       "      <td>0.966670</td>\n",
       "      <td>0.967213</td>\n",
       "      <td>59</td>\n",
       "      <td>61</td>\n",
       "      <td>58.632796</td>\n",
       "      <td>6</td>\n",
       "      <td>0</td>\n",
       "      <td>2</td>\n",
       "    </tr>\n",
       "    <tr>\n",
       "      <td>190</td>\n",
       "      <td>0.802600</td>\n",
       "      <td>2.091763</td>\n",
       "      <td>0.337120</td>\n",
       "      <td>[0.4745762711864407, 0.35714285714285715, 0.32, 0.2727272727272727]</td>\n",
       "      <td>0.966670</td>\n",
       "      <td>0.967213</td>\n",
       "      <td>59</td>\n",
       "      <td>61</td>\n",
       "      <td>58.632796</td>\n",
       "      <td>6</td>\n",
       "      <td>0</td>\n",
       "      <td>2</td>\n",
       "    </tr>\n",
       "    <tr>\n",
       "      <td>200</td>\n",
       "      <td>0.841700</td>\n",
       "      <td>2.086267</td>\n",
       "      <td>0.337120</td>\n",
       "      <td>[0.4745762711864407, 0.35714285714285715, 0.32, 0.2727272727272727]</td>\n",
       "      <td>0.966670</td>\n",
       "      <td>0.967213</td>\n",
       "      <td>59</td>\n",
       "      <td>61</td>\n",
       "      <td>58.632796</td>\n",
       "      <td>6</td>\n",
       "      <td>0</td>\n",
       "      <td>2</td>\n",
       "    </tr>\n",
       "  </tbody>\n",
       "</table><p>"
      ],
      "text/plain": [
       "<IPython.core.display.HTML object>"
      ]
     },
     "metadata": {},
     "output_type": "display_data"
    },
    {
     "name": "stderr",
     "output_type": "stream",
     "text": [
      "Trainer is attempting to log a value of \"[0.375, 0.19148936170212766, 0.06666666666666667, 0.06666666666666667]\" of type <class 'list'> for key \"eval/bleu_precisions\" as a scalar. This invocation of Tensorboard's writer.add_scalar() is incorrect so we dropped this attribute.\n",
      "Trainer is attempting to log a value of \"[0.27419354838709675, 0.1111111111111111, 0.03571428571428571, 0.0]\" of type <class 'list'> for key \"eval/bleu_precisions\" as a scalar. This invocation of Tensorboard's writer.add_scalar() is incorrect so we dropped this attribute.\n",
      "Trainer is attempting to log a value of \"[0.40384615384615385, 0.2857142857142857, 0.2222222222222222, 0.0]\" of type <class 'list'> for key \"eval/bleu_precisions\" as a scalar. This invocation of Tensorboard's writer.add_scalar() is incorrect so we dropped this attribute.\n",
      "Trainer is attempting to log a value of \"[0.39705882352941174, 0.2549019607843137, 0.20588235294117646, 0.17647058823529413]\" of type <class 'list'> for key \"eval/bleu_precisions\" as a scalar. This invocation of Tensorboard's writer.add_scalar() is incorrect so we dropped this attribute.\n",
      "Trainer is attempting to log a value of \"[0.3582089552238806, 0.2, 0.15151515151515152, 0.125]\" of type <class 'list'> for key \"eval/bleu_precisions\" as a scalar. This invocation of Tensorboard's writer.add_scalar() is incorrect so we dropped this attribute.\n",
      "Trainer is attempting to log a value of \"[0.4090909090909091, 0.2653061224489796, 0.21875, 0.1875]\" of type <class 'list'> for key \"eval/bleu_precisions\" as a scalar. This invocation of Tensorboard's writer.add_scalar() is incorrect so we dropped this attribute.\n",
      "Trainer is attempting to log a value of \"[0.3787878787878788, 0.1836734693877551, 0.0625, 0.0625]\" of type <class 'list'> for key \"eval/bleu_precisions\" as a scalar. This invocation of Tensorboard's writer.add_scalar() is incorrect so we dropped this attribute.\n",
      "Trainer is attempting to log a value of \"[0.43137254901960786, 0.2647058823529412, 0.11764705882352941, 0.3333333333333333]\" of type <class 'list'> for key \"eval/bleu_precisions\" as a scalar. This invocation of Tensorboard's writer.add_scalar() is incorrect so we dropped this attribute.\n",
      "Trainer is attempting to log a value of \"[0.4, 0.1875, 0.06451612903225806, 0.06666666666666667]\" of type <class 'list'> for key \"eval/bleu_precisions\" as a scalar. This invocation of Tensorboard's writer.add_scalar() is incorrect so we dropped this attribute.\n",
      "Trainer is attempting to log a value of \"[0.40625, 0.3191489361702128, 0.3, 0.26666666666666666]\" of type <class 'list'> for key \"eval/bleu_precisions\" as a scalar. This invocation of Tensorboard's writer.add_scalar() is incorrect so we dropped this attribute.\n",
      "Trainer is attempting to log a value of \"[0.4915254237288136, 0.38095238095238093, 0.4, 0.36363636363636365]\" of type <class 'list'> for key \"eval/bleu_precisions\" as a scalar. This invocation of Tensorboard's writer.add_scalar() is incorrect so we dropped this attribute.\n",
      "Trainer is attempting to log a value of \"[0.38461538461538464, 0.20833333333333334, 0.0967741935483871, 0.0625]\" of type <class 'list'> for key \"eval/bleu_precisions\" as a scalar. This invocation of Tensorboard's writer.add_scalar() is incorrect so we dropped this attribute.\n",
      "Trainer is attempting to log a value of \"[0.4444444444444444, 0.34782608695652173, 0.3103448275862069, 0.2857142857142857]\" of type <class 'list'> for key \"eval/bleu_precisions\" as a scalar. This invocation of Tensorboard's writer.add_scalar() is incorrect so we dropped this attribute.\n",
      "Trainer is attempting to log a value of \"[0.5, 0.35135135135135137, 0.3, 0.3333333333333333]\" of type <class 'list'> for key \"eval/bleu_precisions\" as a scalar. This invocation of Tensorboard's writer.add_scalar() is incorrect so we dropped this attribute.\n",
      "Trainer is attempting to log a value of \"[0.4126984126984127, 0.21739130434782608, 0.10344827586206896, 0.07692307692307693]\" of type <class 'list'> for key \"eval/bleu_precisions\" as a scalar. This invocation of Tensorboard's writer.add_scalar() is incorrect so we dropped this attribute.\n",
      "Trainer is attempting to log a value of \"[0.45614035087719296, 0.375, 0.391304347826087, 0.4]\" of type <class 'list'> for key \"eval/bleu_precisions\" as a scalar. This invocation of Tensorboard's writer.add_scalar() is incorrect so we dropped this attribute.\n",
      "Trainer is attempting to log a value of \"[0.45614035087719296, 0.375, 0.391304347826087, 0.4]\" of type <class 'list'> for key \"eval/bleu_precisions\" as a scalar. This invocation of Tensorboard's writer.add_scalar() is incorrect so we dropped this attribute.\n",
      "Trainer is attempting to log a value of \"[0.4745762711864407, 0.35714285714285715, 0.32, 0.2727272727272727]\" of type <class 'list'> for key \"eval/bleu_precisions\" as a scalar. This invocation of Tensorboard's writer.add_scalar() is incorrect so we dropped this attribute.\n",
      "Trainer is attempting to log a value of \"[0.4745762711864407, 0.35714285714285715, 0.32, 0.2727272727272727]\" of type <class 'list'> for key \"eval/bleu_precisions\" as a scalar. This invocation of Tensorboard's writer.add_scalar() is incorrect so we dropped this attribute.\n",
      "Trainer is attempting to log a value of \"[0.4745762711864407, 0.35714285714285715, 0.32, 0.2727272727272727]\" of type <class 'list'> for key \"eval/bleu_precisions\" as a scalar. This invocation of Tensorboard's writer.add_scalar() is incorrect so we dropped this attribute.\n"
     ]
    },
    {
     "data": {
      "text/plain": [
       "TrainOutput(global_step=200, training_loss=1.2455991057306528, metrics={'train_runtime': 370.1132, 'train_samples_per_second': 2.162, 'train_steps_per_second': 0.54, 'total_flos': 2092164710400.0, 'train_loss': 1.2455991057306528, 'epoch': 5.88})"
      ]
     },
     "execution_count": 202,
     "metadata": {},
     "output_type": "execute_result"
    }
   ],
   "source": [
    "trainer.train()"
   ]
  },
  {
   "cell_type": "markdown",
   "id": "cc108b06",
   "metadata": {},
   "source": [
    "# Now, lets try using the model!\n",
    "\n",
    "We'll use the `transformers.pipeline` class that has some pre-coded tasks that wraps around the models and tokenizers created by the `transformers` library."
   ]
  },
  {
   "cell_type": "code",
   "execution_count": 205,
   "id": "e2d04eee",
   "metadata": {},
   "outputs": [],
   "source": [
    "from transformers import pipeline\n",
    "\n",
    "translate = pipeline('translation', model=model, tokenizer=tokenizer)"
   ]
  },
  {
   "cell_type": "code",
   "execution_count": 212,
   "id": "783ea002",
   "metadata": {},
   "outputs": [
    {
     "data": {
      "text/plain": [
       "[{'translation_text': '▁coffee with▁less▁sugar'}]"
      ]
     },
     "execution_count": 212,
     "metadata": {},
     "output_type": "execute_result"
    }
   ],
   "source": [
    "translate(\"Kopi siew dai\")"
   ]
  },
  {
   "cell_type": "code",
   "execution_count": 214,
   "id": "289ebeec",
   "metadata": {},
   "outputs": [
    {
     "data": {
      "text/plain": [
       "[{'translation_text': '▁coffee with more▁sugar'}]"
      ]
     },
     "execution_count": 214,
     "metadata": {},
     "output_type": "execute_result"
    }
   ],
   "source": [
    "translate(\"Kopi kar dai\")"
   ]
  },
  {
   "cell_type": "markdown",
   "id": "705311d5",
   "metadata": {},
   "source": [
    "### Somehow the model still hasn't learn the difference between \"▁\" and \" \" whitspaces...\n",
    "\n",
    "The easy solution is just to keep training until the BLEU/ChrF scores are higher. But sometimes a quick hack to the post-process the translation output would work well enough.\n",
    "\n",
    "# Hmmm, can't we just specify some post-editing functions?\n",
    "\n",
    "Yes, you can!\n",
    "\n",
    "First lets check what type of pipeline object we get when we initialize `pipeline('translation', model=model, tokenizer=tokenizer)`"
   ]
  },
  {
   "cell_type": "code",
   "execution_count": 217,
   "id": "7161203f",
   "metadata": {},
   "outputs": [
    {
     "data": {
      "text/plain": [
       "transformers.pipelines.text2text_generation.TranslationPipeline"
      ]
     },
     "execution_count": 217,
     "metadata": {},
     "output_type": "execute_result"
    }
   ],
   "source": [
    "from transformers import pipeline\n",
    "\n",
    "translate = pipeline('translation', model=model, tokenizer=tokenizer)\n",
    "\n",
    "type(translate)"
   ]
  },
  {
   "cell_type": "markdown",
   "id": "8816b9b9",
   "metadata": {},
   "source": [
    "### We trace how TranslationPipeline postprocess the models output\n",
    "\n",
    "From [here](https://github.com/huggingface/transformers/blob/v4.21.3/src/transformers/pipelines/text2text_generation.py#L252), we see that the `TranslationPipeline` has no specified `postprocess()` and inherits from the parent class [`Text2TextGenerationPipeline`](https://github.com/huggingface/transformers/blob/v4.21.3/src/transformers/pipelines/text2text_generation.py#L167), which does:\n",
    "\n",
    "\n",
    "```python\n",
    "class Text2TextGenerationPipeline(Pipeline):\n",
    "    ...\n",
    "    def postprocess(self, model_outputs, return_type=ReturnType.TEXT, clean_up_tokenization_spaces=False):\n",
    "        records = []\n",
    "        for output_ids in model_outputs[\"output_ids\"][0]:\n",
    "            if return_type == ReturnType.TENSORS:\n",
    "                record = {f\"{self.return_name}_token_ids\": output_ids}\n",
    "            elif return_type == ReturnType.TEXT:\n",
    "                record = {\n",
    "                    f\"{self.return_name}_text\": self.tokenizer.decode(\n",
    "                        output_ids,\n",
    "                        skip_special_tokens=True,\n",
    "                        clean_up_tokenization_spaces=clean_up_tokenization_spaces,\n",
    "                    )\n",
    "                }\n",
    "            records.append(record)\n",
    "        return records\n",
    "```\n",
    "\n"
   ]
  },
  {
   "cell_type": "markdown",
   "id": "70a79bcf",
   "metadata": {},
   "source": [
    "### Lets do something simple and replace \"▁\" with space and then clean up any spurious whitespaces."
   ]
  },
  {
   "cell_type": "code",
   "execution_count": 219,
   "id": "075e4768",
   "metadata": {},
   "outputs": [
    {
     "name": "stdout",
     "output_type": "stream",
     "text": [
      "coffee with more sugar\n"
     ]
    }
   ],
   "source": [
    "# Here's an example.\n",
    "s = '▁coffee with more▁sugar'\n",
    "\n",
    "# Replace '▁' with space\n",
    "s = s.replace('▁', ' ')\n",
    "# Remove spurious spaces.\n",
    "s = ' '.join(s.strip().split(' '))\n",
    "\n",
    "print(s)"
   ]
  },
  {
   "cell_type": "code",
   "execution_count": 234,
   "id": "ba0ef51c",
   "metadata": {},
   "outputs": [],
   "source": [
    "from transformers import TranslationPipeline\n",
    "\n",
    "class TranslateAndPostedit(TranslationPipeline):\n",
    "    def postprocess(self, model_outputs):\n",
    "        postedited_outputs = []\n",
    "        for output_ids in model_outputs[\"output_ids\"][0]:\n",
    "            # Converting the vocab IDs to strings.\n",
    "            output = {'translation_text': self.tokenizer.decode(output_ids, skip_special_tokens=True)}\n",
    "            # Now we do the post-editing operations.\n",
    "            translation = output['translation_text']\n",
    "            postedited = translation.replace('▁', ' ')\n",
    "            postedited = ' '.join(s.strip().split(' '))\n",
    "            postedited_outputs = {'translation_text': postedited}\n",
    "        return postedited_outputs\n",
    "\n",
    "    \n",
    "translate = TranslateAndPostedit(model=model, tokenizer=tokenizer)"
   ]
  },
  {
   "cell_type": "code",
   "execution_count": 235,
   "id": "e5019e1e",
   "metadata": {},
   "outputs": [
    {
     "data": {
      "text/plain": [
       "{'translation_text': 'coffee with more sugar'}"
      ]
     },
     "execution_count": 235,
     "metadata": {},
     "output_type": "execute_result"
    }
   ],
   "source": [
    "translate(\"Kopi siew dai\")"
   ]
  },
  {
   "cell_type": "markdown",
   "id": "251cd015",
   "metadata": {},
   "source": [
    "# おめでとう! (Congratulations!) \n",
    "\n",
    "# Now you know the basics of how to fine-tune an OPUS MT model with Huggingface `transformers`!\n",
    "\n",
    "\n",
    "Here's a summary of the learning points:\n",
    "\n",
    "- [x] How to load TSV data to Huggingface `datasets`?\n",
    "- [x] How to stream large data to `load_dataset`?\n",
    "- [x] How to split a `datasets.Dataset` into train/dev/test?\n",
    "- [x] How to use `evaluate.load` metrics?\n",
    "- [x] How to use multiple metrics with `evaluate.combine`?\n",
    "- [x] How to load custom/local metrics with `evaluate`?\n",
    "- [x] How to find all the available options for `Seq2SeqTrainingArguments`?\n",
    "- [x] How to postprocess the model outputs using `Pipeline.postproces`?\n"
   ]
  },
  {
   "cell_type": "markdown",
   "id": "2b0a2c5a",
   "metadata": {},
   "source": [
    "### Q: ちょっと待って! (Wait a minute!) What do you mean by \"basics\"? There's more?!\n",
    "\n",
    "A: Yes, there will always be more when it comes to training NLP/MT/ML models =) "
   ]
  },
  {
   "cell_type": "markdown",
   "id": "5399b17c",
   "metadata": {},
   "source": [
    "# つづく..."
   ]
  },
  {
   "cell_type": "code",
   "execution_count": null,
   "id": "59abdac8",
   "metadata": {},
   "outputs": [],
   "source": []
  }
 ],
 "metadata": {
  "kernelspec": {
   "display_name": "Python 3",
   "language": "python",
   "name": "python3"
  },
  "language_info": {
   "codemirror_mode": {
    "name": "ipython",
    "version": 3
   },
   "file_extension": ".py",
   "mimetype": "text/x-python",
   "name": "python",
   "nbconvert_exporter": "python",
   "pygments_lexer": "ipython3",
   "version": "3.8.2"
  }
 },
 "nbformat": 4,
 "nbformat_minor": 5
}
